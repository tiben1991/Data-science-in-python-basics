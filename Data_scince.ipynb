{
  "cells": [
    {
      "cell_type": "markdown",
      "metadata": {
        "id": "view-in-github",
        "colab_type": "text"
      },
      "source": [
        "<a href=\"https://colab.research.google.com/github/tiben1991/Data-science-in-python-basics/blob/main/Data_scince.ipynb\" target=\"_parent\"><img src=\"https://colab.research.google.com/assets/colab-badge.svg\" alt=\"Open In Colab\"/></a>"
      ]
    },
    {
      "cell_type": "code",
      "execution_count": null,
      "metadata": {
        "colab": {
          "base_uri": "https://localhost:8080/"
        },
        "id": "74R9V0Oyjx-S",
        "outputId": "e34485db-2a96-4051-d315-97c48051cd28"
      },
      "outputs": [
        {
          "name": "stdout",
          "output_type": "stream",
          "text": [
            "Eistein\n"
          ]
        }
      ],
      "source": [
        "#Challenge 4\n",
        "atomic_7=\"Eistein\"\n",
        "print(atomic_7)"
      ]
    },
    {
      "cell_type": "code",
      "execution_count": null,
      "metadata": {
        "colab": {
          "base_uri": "https://localhost:8080/"
        },
        "id": "bcVnk9cKkQPn",
        "outputId": "9a56ca3b-3ffd-4ea0-d18d-814c4e9757a5"
      },
      "outputs": [
        {
          "name": "stdout",
          "output_type": "stream",
          "text": [
            "2000\n"
          ]
        }
      ],
      "source": [
        "#Challenge 5\n",
        "second_number=2000\n",
        "print(second_number)"
      ]
    },
    {
      "cell_type": "code",
      "execution_count": null,
      "metadata": {
        "colab": {
          "base_uri": "https://localhost:8080/"
        },
        "id": "MyjsMV0WknT4",
        "outputId": "51f4a179-64d8-47ce-9289-7de2d56b151b"
      },
      "outputs": [
        {
          "name": "stdout",
          "output_type": "stream",
          "text": [
            "80\n",
            "0.6\n",
            "1500\n"
          ]
        }
      ],
      "source": [
        "##operators\n",
        "#Example 7\n",
        "a=30\n",
        "b=50\n",
        "print(a+b)\n",
        "print(a/b)\n",
        "print(a*b)"
      ]
    },
    {
      "cell_type": "code",
      "execution_count": null,
      "metadata": {
        "colab": {
          "base_uri": "https://localhost:8080/"
        },
        "id": "yCRRhuJwlOSm",
        "outputId": "7bf94b66-7d40-4e10-ab7b-c5ac1590845a"
      },
      "outputs": [
        {
          "name": "stdout",
          "output_type": "stream",
          "text": [
            "230\n"
          ]
        }
      ],
      "source": [
        "#Example 8\n",
        "# what would happen if we assign the value of (a+b) into a\n",
        "a=a+b\n",
        "print(a)"
      ]
    },
    {
      "cell_type": "code",
      "execution_count": null,
      "metadata": {
        "colab": {
          "base_uri": "https://localhost:8080/"
        },
        "id": "3mt6eKyymSAc",
        "outputId": "e4a1ebbd-53d2-4053-da35-40afb00e6710"
      },
      "outputs": [
        {
          "name": "stdout",
          "output_type": "stream",
          "text": [
            "330\n"
          ]
        }
      ],
      "source": [
        "# Example 9\n",
        "#increament operator\n",
        "a+=b\n",
        "print(a)"
      ]
    },
    {
      "cell_type": "code",
      "execution_count": null,
      "metadata": {
        "colab": {
          "base_uri": "https://localhost:8080/"
        },
        "id": "CoE9twGMm0yy",
        "outputId": "ae599382-1a89-4086-bb47-500482a6977b"
      },
      "outputs": [
        {
          "name": "stdout",
          "output_type": "stream",
          "text": [
            "9\n"
          ]
        }
      ],
      "source": [
        "# Example 10\n",
        "#decreament operator\n",
        "b=10\n",
        "a=1\n",
        "b-=a\n",
        "print(b)"
      ]
    },
    {
      "cell_type": "code",
      "execution_count": null,
      "metadata": {
        "colab": {
          "base_uri": "https://localhost:8080/"
        },
        "id": "7HWr3abknRcl",
        "outputId": "743411d3-19fe-4cb4-c82b-0146e3fa8836"
      },
      "outputs": [
        {
          "name": "stdout",
          "output_type": "stream",
          "text": [
            "6\n"
          ]
        }
      ],
      "source": [
        "# Example 10\n",
        "#decreament operator\n",
        "\n",
        "b-=a # a counter---we want b to decrease by a\n",
        "print(b)"
      ]
    },
    {
      "cell_type": "code",
      "execution_count": null,
      "metadata": {
        "colab": {
          "base_uri": "https://localhost:8080/"
        },
        "id": "ArtEDrYXorex",
        "outputId": "052da7cc-b8a5-43e3-fc3e-a3a370ec26b1"
      },
      "outputs": [
        {
          "name": "stdout",
          "output_type": "stream",
          "text": [
            "1024\n"
          ]
        }
      ],
      "source": [
        "#Example 11\n",
        "# Exponents\n",
        "print(4**5) # 4 power 5"
      ]
    },
    {
      "cell_type": "code",
      "execution_count": null,
      "metadata": {
        "id": "glweC2uupD-L"
      },
      "outputs": [],
      "source": [
        "#Example 12\n",
        "# modulo Operator\n",
        "print(18%7) #18 diveded by 7 the remainder is 4"
      ]
    },
    {
      "cell_type": "code",
      "execution_count": null,
      "metadata": {
        "colab": {
          "background_save": true,
          "base_uri": "https://localhost:8080/"
        },
        "id": "V3NcEAwnplW2",
        "outputId": "e77847b6-5154-40fa-cdb8-d4b28009c753"
      },
      "outputs": [
        {
          "name": "stdout",
          "output_type": "stream",
          "text": [
            "ksh 28500\n"
          ]
        }
      ],
      "source": [
        "#Challenge 6\n",
        "jeans=4500\n",
        "t_shirt=2500\n",
        "cost=3*jeans+6*t_shirt\n",
        "print(\"ksh\",cost) # a function takes arguments, these arguments are separated by the comma\n"
      ]
    },
    {
      "cell_type": "code",
      "execution_count": null,
      "metadata": {
        "colab": {
          "base_uri": "https://localhost:8080/"
        },
        "id": "t3a83PXgqmhx",
        "outputId": "b3638fa9-0f20-459a-ff06-ec3f76ef3019"
      },
      "outputs": [
        {
          "name": "stdout",
          "output_type": "stream",
          "text": [
            "ksh: 216.66666666666666\n"
          ]
        }
      ],
      "source": [
        "#Challenge 7\n",
        "p1=50\n",
        "p2=100\n",
        "p3=500\n",
        "total=p1+p2+p3\n",
        "average=total/3\n",
        "print(\"ksh:\",average)\n"
      ]
    },
    {
      "cell_type": "code",
      "execution_count": null,
      "metadata": {
        "colab": {
          "base_uri": "https://localhost:8080/"
        },
        "id": "quQm6zPCtd6_",
        "outputId": "fc684f71-c008-4224-e833-c08b3054365a"
      },
      "outputs": [
        {
          "name": "stdout",
          "output_type": "stream",
          "text": [
            "1948.7171000000012\n"
          ]
        }
      ],
      "source": [
        "# Challenge 8\n",
        "# declare the amount we are saving\n",
        "saving=1000\n",
        "\n",
        "#create multiplier variable\n",
        "multiplier=1.1\n",
        "\n",
        "#create a result varaiable\n",
        "result=1000*1.1**7\n",
        "\n",
        "#print the value of the result\n",
        "print(result)"
      ]
    },
    {
      "cell_type": "markdown",
      "metadata": {
        "id": "mIukdPhJyDnJ"
      },
      "source": [
        "inputs"
      ]
    },
    {
      "cell_type": "code",
      "execution_count": null,
      "metadata": {
        "colab": {
          "base_uri": "https://localhost:8080/"
        },
        "id": "em65GVeryFiF",
        "outputId": "622f34e3-98f0-44ca-b369-f2797759f45d"
      },
      "outputs": [
        {
          "name": "stdout",
          "output_type": "stream",
          "text": [
            "Enter a number:1000\n",
            "1948.7171000000012\n"
          ]
        }
      ],
      "source": [
        "#Example 13\n",
        "# the input(function) allows for user input\n",
        "g=input(\"Enter a number:\")\n",
        "g=int(g)\n",
        "print(g*1.1**7)"
      ]
    },
    {
      "cell_type": "code",
      "execution_count": null,
      "metadata": {
        "colab": {
          "base_uri": "https://localhost:8080/"
        },
        "id": "KRjo5Gw3y4V2",
        "outputId": "17cc3d7d-3208-4729-df05-a959bb54e1e5"
      },
      "outputs": [
        {
          "name": "stdout",
          "output_type": "stream",
          "text": [
            "Enter the firt number:1\n",
            "Enter the second number:2\n",
            "12\n"
          ]
        }
      ],
      "source": [
        "#Example 14\n",
        "#lets get two numbers\n",
        "x=input(\"Enter the firt number:\")\n",
        "y=input(\"Enter the second number:\")\n",
        "z=x+y\n",
        "\n",
        "print(z)\n",
        "# this sis not working because python identifies these as string variables and as such python will concatinate them"
      ]
    },
    {
      "cell_type": "code",
      "execution_count": null,
      "metadata": {
        "colab": {
          "base_uri": "https://localhost:8080/"
        },
        "id": "aEd2ssmM00RE",
        "outputId": "3fc0bab0-ff46-48f1-987e-edfe78bd7225"
      },
      "outputs": [
        {
          "name": "stdout",
          "output_type": "stream",
          "text": [
            "Enter the first number: 1\n",
            "Enter the second number: 2\n",
            "The sum is: 3\n"
          ]
        }
      ],
      "source": [
        "x = int(input(\"Enter the first number: \"))\n",
        "y = int(input(\"Enter the second number: \"))\n",
        "z = x + y\n",
        "\n",
        "print(\"The sum is:\", z)\n"
      ]
    },
    {
      "cell_type": "code",
      "execution_count": null,
      "metadata": {
        "colab": {
          "base_uri": "https://localhost:8080/"
        },
        "id": "nIJJpVWM1sVq",
        "outputId": "336a0ca5-3bcb-4d22-ff9a-eccf71c17f96"
      },
      "outputs": [
        {
          "name": "stdout",
          "output_type": "stream",
          "text": [
            "what's your name? Epic\n",
            "happy to meet you Epic!\n"
          ]
        }
      ],
      "source": [
        "#Example 15\n",
        "name = input(\"what's your name?\")\n",
        "print(\"happy to meet you\" + name + \"!\")"
      ]
    },
    {
      "cell_type": "code",
      "execution_count": null,
      "metadata": {
        "colab": {
          "base_uri": "https://localhost:8080/"
        },
        "id": "_FZRxQnl2gya",
        "outputId": "bfac925f-8baf-42d6-a8a8-d7b763f556b6"
      },
      "outputs": [
        {
          "name": "stdout",
          "output_type": "stream",
          "text": [
            "Enter pi3.142\n",
            "Enter r3\n",
            "Enter h12\n",
            "339.336\n"
          ]
        }
      ],
      "source": [
        "#Challenge\n",
        "pi=float(input(\"Enter pi\"))\n",
        "r=int(input(\"Enter r\"))\n",
        "h=int(input(\"Enter h\"))\n",
        "volume=pi*r**2*h\n",
        "print(volume)"
      ]
    },
    {
      "cell_type": "markdown",
      "metadata": {
        "id": "wMuqA8T5zPFK"
      },
      "source": [
        "DATA TYPES"
      ]
    },
    {
      "cell_type": "code",
      "execution_count": null,
      "metadata": {
        "id": "iDoVZHq9zSLF"
      },
      "outputs": [],
      "source": [
        "# EXAMPLE 16\n",
        "#strings, intergers, floats, boolean"
      ]
    },
    {
      "cell_type": "code",
      "execution_count": null,
      "metadata": {
        "id": "FkIfOJTU0ABm"
      },
      "outputs": [],
      "source": [
        "# EXAMPLE 18\n",
        "print(int(55))\n",
        "print(float(3.142))\n",
        "print(str(\"this is epic\"))\n",
        "print(bool(True))"
      ]
    },
    {
      "cell_type": "code",
      "execution_count": null,
      "metadata": {
        "colab": {
          "base_uri": "https://localhost:8080/"
        },
        "id": "7WwKWIX-z_-_",
        "outputId": "f1f5143f-5081-45c9-db4a-e565a2053431"
      },
      "outputs": [
        {
          "data": {
            "text/plain": [
              "type"
            ]
          },
          "execution_count": 6,
          "metadata": {},
          "output_type": "execute_result"
        }
      ],
      "source": [
        "# EXAMPLE 19\n",
        "#the type function allows the data type\n",
        "type(55)"
      ]
    },
    {
      "cell_type": "code",
      "execution_count": null,
      "metadata": {
        "colab": {
          "base_uri": "https://localhost:8080/"
        },
        "id": "rJq7j7Il09bH",
        "outputId": "96aa7840-bc63-4aa2-9232-c2d1ff9168e1"
      },
      "outputs": [
        {
          "data": {
            "text/plain": [
              "type"
            ]
          },
          "execution_count": 7,
          "metadata": {},
          "output_type": "execute_result"
        }
      ],
      "source": [
        "# EXAMPLE 20\n",
        "#for float\n",
        "type(float)"
      ]
    },
    {
      "cell_type": "code",
      "execution_count": null,
      "metadata": {
        "colab": {
          "base_uri": "https://localhost:8080/"
        },
        "id": "qpZTKRUu1IRq",
        "outputId": "8c1f22d5-aa65-4661-ab49-af647d83dff3"
      },
      "outputs": [
        {
          "data": {
            "text/plain": [
              "str"
            ]
          },
          "execution_count": 8,
          "metadata": {},
          "output_type": "execute_result"
        }
      ],
      "source": [
        "#ExAMPLE 21\n",
        "#string\n",
        "type(\"Epic learn\")"
      ]
    },
    {
      "cell_type": "code",
      "execution_count": null,
      "metadata": {
        "colab": {
          "base_uri": "https://localhost:8080/"
        },
        "id": "HFu3nBr21c7p",
        "outputId": "22bdb4d6-4f07-4bcd-e68e-8bcba9a56453"
      },
      "outputs": [
        {
          "data": {
            "text/plain": [
              "float"
            ]
          },
          "execution_count": 9,
          "metadata": {},
          "output_type": "execute_result"
        }
      ],
      "source": [
        "# CHALLENGE 12\n",
        "#what is the data type for 16/4\n",
        "type(16/4)"
      ]
    },
    {
      "cell_type": "code",
      "execution_count": null,
      "metadata": {
        "colab": {
          "base_uri": "https://localhost:8080/"
        },
        "id": "nv3Tbb0x1pwv",
        "outputId": "f331bdad-3f5c-4900-dfde-23f45a8a66da"
      },
      "outputs": [
        {
          "data": {
            "text/plain": [
              "int"
            ]
          },
          "execution_count": 10,
          "metadata": {},
          "output_type": "execute_result"
        }
      ],
      "source": [
        "# CHALLENGE 13\n",
        "#what is the data type for 16//4\n",
        "type(16//4)\n",
        "# the double slash gives an absulute value not a decimal point"
      ]
    },
    {
      "cell_type": "code",
      "execution_count": null,
      "metadata": {
        "colab": {
          "base_uri": "https://localhost:8080/"
        },
        "id": "UcRYIDy63GxI",
        "outputId": "9faf34aa-10d8-4c05-9467-bbef6e7eb7c2"
      },
      "outputs": [
        {
          "data": {
            "text/plain": [
              "(False, True)"
            ]
          },
          "execution_count": 14,
          "metadata": {},
          "output_type": "execute_result"
        }
      ],
      "source": [
        "# Challenge what are getting here\n",
        "type(3.2)==float\n",
        "#is 3.2 a float???\n",
        "type(3.2)==int"
      ]
    },
    {
      "cell_type": "code",
      "execution_count": null,
      "metadata": {
        "id": "-vOuufC4336n"
      },
      "outputs": [],
      "source": [
        "#is 3.2 an interger???\n",
        "type(3.2)==int"
      ]
    },
    {
      "cell_type": "code",
      "execution_count": null,
      "metadata": {
        "colab": {
          "base_uri": "https://localhost:8080/"
        },
        "id": "c33jIbtk3dPH",
        "outputId": "bf4580a1-f946-42a7-f8da-ab1b9f16fc59"
      },
      "outputs": [
        {
          "data": {
            "text/plain": [
              "bool"
            ]
          },
          "execution_count": 13,
          "metadata": {},
          "output_type": "execute_result"
        }
      ],
      "source": [
        "#example 22\n",
        "#boolean values\n",
        "type(True)\n"
      ]
    },
    {
      "cell_type": "code",
      "execution_count": null,
      "metadata": {
        "colab": {
          "base_uri": "https://localhost:8080/"
        },
        "id": "MzADYfc93crj",
        "outputId": "073ac38a-a881-4a01-b4c9-de40a8f95665"
      },
      "outputs": [
        {
          "name": "stdout",
          "output_type": "stream",
          "text": [
            "90\n",
            "90.0\n"
          ]
        }
      ],
      "source": [
        "# example 24\n",
        "#convert data types from one type to another\n",
        "x=int(90)\n",
        "print(x)\n",
        "print(float(x))"
      ]
    },
    {
      "cell_type": "code",
      "execution_count": null,
      "metadata": {
        "colab": {
          "base_uri": "https://localhost:8080/"
        },
        "id": "rmkJ4bGj47Vz",
        "outputId": "da9d6bb0-7cc7-42dc-b94e-a6738ae61311"
      },
      "outputs": [
        {
          "name": "stdout",
          "output_type": "stream",
          "text": [
            "6.756535\n",
            "6\n"
          ]
        }
      ],
      "source": [
        "# example 25\n",
        "#convert float to interger\n",
        "x=float(6.756535)\n",
        "print(x)\n",
        "print(int(x))"
      ]
    },
    {
      "cell_type": "code",
      "execution_count": null,
      "metadata": {
        "colab": {
          "base_uri": "https://localhost:8080/"
        },
        "id": "0F6hOYKl5bMx",
        "outputId": "ac1e7574-9525-48fd-f119-a827e73b2a96"
      },
      "outputs": [
        {
          "output_type": "stream",
          "name": "stdout",
          "text": [
            "7\n"
          ]
        }
      ],
      "source": [
        "# EXAMPLE 26\n",
        "#rounding off\n",
        "x=float(6.756535)\n",
        "x=round(x,0)\n",
        "print(int(x))"
      ]
    },
    {
      "cell_type": "code",
      "execution_count": null,
      "metadata": {
        "colab": {
          "base_uri": "https://localhost:8080/"
        },
        "id": "NMlZYrsK5zJI",
        "outputId": "876a6bda-1c2a-4cd5-c7f3-1e67635a1eda"
      },
      "outputs": [
        {
          "output_type": "stream",
          "name": "stdout",
          "text": [
            "enter a number2.7899494\n",
            "2\n"
          ]
        }
      ],
      "source": [
        "# EXAMPLE 27\n",
        "x=round(float(input(\"enter a number\")),0)\n",
        "print(int(x))"
      ]
    },
    {
      "cell_type": "code",
      "execution_count": null,
      "metadata": {
        "colab": {
          "base_uri": "https://localhost:8080/"
        },
        "id": "OwcR2gFW4cm4",
        "outputId": "00e8a726-e531-4d52-edfc-bda8e128b842"
      },
      "outputs": [
        {
          "name": "stdout",
          "output_type": "stream",
          "text": [
            "500\n"
          ]
        }
      ],
      "source": [
        "# EXAMPLE 28\n",
        "#convert a string to interge\n",
        "x=\"500\"\n",
        "print(int(x))"
      ]
    },
    {
      "cell_type": "code",
      "execution_count": null,
      "metadata": {
        "colab": {
          "base_uri": "https://localhost:8080/"
        },
        "id": "zLBJlgul1Bez",
        "outputId": "2eecc1f9-0a93-4b07-f780-832a6aec9177"
      },
      "outputs": [
        {
          "name": "stdout",
          "output_type": "stream",
          "text": [
            "13\n"
          ]
        }
      ],
      "source": [
        "# EXAMPLE 29\n",
        "#is it possible to convert long string into interger\n",
        "a=str(\"1 or 3 peopl\")\n",
        "a=str.replace(a,a,\"13\")\n",
        "print(int(a))"
      ]
    },
    {
      "cell_type": "code",
      "execution_count": null,
      "metadata": {
        "colab": {
          "base_uri": "https://localhost:8080/"
        },
        "id": "hHc0Rrtn87CW",
        "outputId": "98c31aca-ec0f-4d19-e19d-15d53b675ce0"
      },
      "outputs": [
        {
          "data": {
            "text/plain": [
              "True"
            ]
          },
          "execution_count": 22,
          "metadata": {},
          "output_type": "execute_result"
        }
      ],
      "source": [
        "# EXAMPLE 30\n",
        "#lets cas 1 into a boolean\n",
        "bool(1)"
      ]
    },
    {
      "cell_type": "code",
      "execution_count": null,
      "metadata": {
        "colab": {
          "base_uri": "https://localhost:8080/"
        },
        "id": "JsX-XAsC1Z_q",
        "outputId": "0e827b3f-4358-4cee-e746-c1f8b0ef45f7"
      },
      "outputs": [
        {
          "data": {
            "text/plain": [
              "False"
            ]
          },
          "execution_count": 23,
          "metadata": {},
          "output_type": "execute_result"
        }
      ],
      "source": [
        "# EXAMPLE 31\n",
        "#lets cas 0 into a boolean\n",
        "bool(0)"
      ]
    },
    {
      "cell_type": "code",
      "execution_count": null,
      "metadata": {
        "colab": {
          "base_uri": "https://localhost:8080/"
        },
        "id": "cc41E7gP02jE",
        "outputId": "704222fe-4380-4a94-8674-f544c33b55d6"
      },
      "outputs": [
        {
          "data": {
            "text/plain": [
              "True"
            ]
          },
          "execution_count": 24,
          "metadata": {},
          "output_type": "execute_result"
        }
      ],
      "source": [
        "# EXAMPLE 32\n",
        "#lets cas 0 into a boolean\n",
        "bool(5)"
      ]
    },
    {
      "cell_type": "markdown",
      "metadata": {
        "id": "B3InMO36-VZV"
      },
      "source": [
        "conditional statements"
      ]
    },
    {
      "cell_type": "code",
      "execution_count": null,
      "metadata": {
        "colab": {
          "base_uri": "https://localhost:8080/"
        },
        "id": "c51Bsxt89hlW",
        "outputId": "32c74963-9c3f-4fe8-df87-84ceb75fb152"
      },
      "outputs": [
        {
          "name": "stdout",
          "output_type": "stream",
          "text": [
            "yes\n"
          ]
        }
      ],
      "source": [
        "# EXAMPLE 33\n",
        "# we write an if staement using the word if\n",
        "x=200\n",
        "y=100\n",
        "if y<x:\n",
        "  print(\"yes\")"
      ]
    },
    {
      "cell_type": "code",
      "execution_count": null,
      "metadata": {
        "colab": {
          "base_uri": "https://localhost:8080/"
        },
        "id": "UGA672b1As0X",
        "outputId": "4a53452e-d90c-489a-e6af-f20a50f54807"
      },
      "outputs": [
        {
          "name": "stdout",
          "output_type": "stream",
          "text": [
            "enter a value for x18\n",
            "enter a value for y14\n",
            "sorry you are not eligible\n"
          ]
        }
      ],
      "source": [
        "#example 34\n",
        "X=input(\"enter a value for x\")\n",
        "y=input(\"enter a value for y\")\n",
        "if y < X:\n",
        "  print(\"sorry you are not eligible\")"
      ]
    },
    {
      "cell_type": "code",
      "execution_count": null,
      "metadata": {
        "colab": {
          "background_save": true,
          "base_uri": "https://localhost:8080/",
          "height": 263
        },
        "id": "NoCGda8zvNj2",
        "outputId": "eb0c8298-b0cb-479b-962a-0fcc2f85766e"
      },
      "outputs": [
        {
          "name": "stdout",
          "output_type": "stream",
          "text": [
            "not eligible\n"
          ]
        }
      ],
      "source": [
        "Age=int(input (\"Enter your age\"))\n",
        "Limit=int(18)\n",
        "if Age<Limit:\n",
        " Print(\"not eligible\")\n",
        "else:\n",
        " Print(\"eligible\")"
      ]
    },
    {
      "cell_type": "code",
      "execution_count": null,
      "metadata": {
        "colab": {
          "base_uri": "https://localhost:8080/"
        },
        "id": "v3SAPmRpz_8q",
        "outputId": "ddb190c1-7cbc-4238-b433-db7798f1b600"
      },
      "outputs": [
        {
          "name": "stdout",
          "output_type": "stream",
          "text": [
            "enter a value for x7\n",
            "enter a value for y5\n",
            "yes\n"
          ]
        }
      ],
      "source": [
        "#challenge 15\n",
        "X=input(\"enter a value for x\")\n",
        "y=input(\"enter a value for y\")\n",
        "if y < X:\n",
        "  print(\"yes\")"
      ]
    },
    {
      "cell_type": "code",
      "execution_count": null,
      "metadata": {
        "id": "tEate41jCUA8"
      },
      "outputs": [],
      "source": [
        "x=1\n",
        "y=7\n",
        "if y<x:\n",
        "  print(\"yes\")"
      ]
    },
    {
      "cell_type": "code",
      "execution_count": null,
      "metadata": {
        "colab": {
          "base_uri": "https://localhost:8080/"
        },
        "id": "gi5EH6iFDPS7",
        "outputId": "f1d90f1d-2a8b-435d-8888-8c5a491ad17a"
      },
      "outputs": [
        {
          "name": "stdout",
          "output_type": "stream",
          "text": [
            "y is better\n"
          ]
        }
      ],
      "source": [
        "#example 35\n",
        "#elif tries another condition if the condition was not true\n",
        "x=33\n",
        "y=34\n",
        "\n",
        "if y<x:\n",
        "  print(\"x is better\")\n",
        "elif x==y:\n",
        "    print(\"no difference\")\n",
        "elif y>x:\n",
        "      print(\"y is better\")"
      ]
    },
    {
      "cell_type": "code",
      "execution_count": null,
      "metadata": {
        "colab": {
          "base_uri": "https://localhost:8080/"
        },
        "id": "l_YMXwPTEEf9",
        "outputId": "f8400f97-2054-473c-9d1b-e79568f5f374"
      },
      "outputs": [
        {
          "name": "stdout",
          "output_type": "stream",
          "text": [
            "your choice is 'a'.\n"
          ]
        }
      ],
      "source": [
        "#example 36\n",
        "choice=\"a\"\n",
        "if choice==\"a\":\n",
        "  print(\"your choice is 'a'.\")\n",
        "elif choice=='b':\n",
        "  print(\"your choice is 'b'.\")\n",
        "elif choice=='c':\n",
        "  print(\"your choice is 'c'.\")\n"
      ]
    },
    {
      "cell_type": "code",
      "execution_count": null,
      "metadata": {
        "colab": {
          "base_uri": "https://localhost:8080/"
        },
        "id": "Zt04VVAKEGXs",
        "outputId": "5f118ce3-987c-4a16-992f-7b273ec979cd"
      },
      "outputs": [
        {
          "name": "stdout",
          "output_type": "stream",
          "text": [
            "enter interger3\n",
            "odd\n"
          ]
        }
      ],
      "source": [
        "#callenge 16\n",
        " #write a program that reads an interger form a user and displays wehter the interger is even or odd\n",
        "x=int(input(\"enter interger\"))\n",
        "if x%2==0:\n",
        "  print(\"even\")\n",
        "else:\n",
        "    print(\"odd\")"
      ]
    },
    {
      "cell_type": "markdown",
      "metadata": {
        "id": "PSeLWtFzIZaU"
      },
      "source": [
        "else condition\n"
      ]
    },
    {
      "cell_type": "code",
      "execution_count": null,
      "metadata": {
        "colab": {
          "base_uri": "https://localhost:8080/"
        },
        "id": "Y5MbW866FViQ",
        "outputId": "16f16ad9-0f95-450f-9ee5-9ba5b9b38581"
      },
      "outputs": [
        {
          "name": "stdout",
          "output_type": "stream",
          "text": [
            "x is better\n"
          ]
        }
      ],
      "source": [
        "# example 37\n",
        "#else will catch anything that is not captured by the preceeding statements\n",
        "#declare some variables\n",
        "x=134\n",
        "y=32\n",
        "\n",
        "if y>x:\n",
        "  print(\"y is better\")\n",
        "elif x==y:\n",
        "  print(\"no difference\")\n",
        "else:\n",
        "  print(\"x is better\")\n"
      ]
    },
    {
      "cell_type": "code",
      "execution_count": null,
      "metadata": {
        "id": "CMuWq1e6IfMb"
      },
      "outputs": [],
      "source": [
        "#challnege 20, 21, 22,\n"
      ]
    },
    {
      "cell_type": "code",
      "execution_count": null,
      "metadata": {
        "id": "DdFae7rWNClH"
      },
      "outputs": [],
      "source": []
    },
    {
      "cell_type": "code",
      "execution_count": null,
      "metadata": {
        "colab": {
          "base_uri": "https://localhost:8080/"
        },
        "id": "IzvHc_a0NfUT",
        "outputId": "db6726cf-8031-410b-8cef-5e21065228ff"
      },
      "outputs": [
        {
          "name": "stdout",
          "output_type": "stream",
          "text": [
            "Enter first statement I love \n",
            "Enter the second statement the man am coming to be\n",
            " I love  the man am coming to be\n"
          ]
        }
      ],
      "source": [
        "x=input(\"Enter first statement\")\n",
        "y=input(\"Enter the second statement\")\n",
        "z=x+y\n",
        "print(z)"
      ]
    },
    {
      "cell_type": "code",
      "execution_count": null,
      "metadata": {
        "colab": {
          "base_uri": "https://localhost:8080/"
        },
        "id": "Fvzs-vmQOq1-",
        "outputId": "8be36356-ecbc-4e67-c9f1-29e33c24d990"
      },
      "outputs": [
        {
          "output_type": "stream",
          "name": "stdout",
          "text": [
            "enter first number3\n",
            "enter second number5\n",
            "8\n"
          ]
        }
      ],
      "source": [
        "x=int(input(\"enter first number\"))\n",
        "\n",
        "y=int(input(\"enter second number\"))\n",
        "z=x+y\n",
        "print(z)"
      ]
    },
    {
      "cell_type": "code",
      "execution_count": null,
      "metadata": {
        "colab": {
          "base_uri": "https://localhost:8080/"
        },
        "id": "Txc9sLLoTGyC",
        "outputId": "f1202588-0d23-4713-c90e-09920dcfbae2"
      },
      "outputs": [
        {
          "output_type": "stream",
          "name": "stdout",
          "text": [
            "x20\n",
            "y20\n",
            "z20\n",
            "equilateral\n"
          ]
        }
      ],
      "source": [
        "# CHALLENGE 23\n",
        "#create an algorithm for identifying a triangle as equilateral or isoscless or obtuse\n",
        "x=int(input(\"x\"))\n",
        "y=int(input(\"y\"))\n",
        "z=int(input(\"z\"))\n",
        "\n",
        "if x==y and x==z and y==z:\n",
        "  print(\"equilateral\")\n",
        "elif x!=y and x!=z and y!=z:\n",
        "    print(\"obtuse\")\n",
        "else:\n",
        "      print(\"isosceles\")\n"
      ]
    },
    {
      "cell_type": "code",
      "execution_count": null,
      "metadata": {
        "colab": {
          "base_uri": "https://localhost:8080/"
        },
        "id": "yP-ls03OcZqO",
        "outputId": "de07cfd4-11f2-4e54-ada5-e1642c557a6f"
      },
      "outputs": [
        {
          "name": "stdout",
          "output_type": "stream",
          "text": [
            "Enter the wavelength579.2\n",
            "The color is Yellow.\n"
          ]
        }
      ],
      "source": [
        " #Challenge 24\n",
        "# Write a program that reads a wavelength from the user and reports its color.\n",
        "# Display an appropriate error message if the wavelength entered by the user\n",
        "# is outside of the visible spectrum.\n",
        "# (You can do external research on this challenge to determine the wavelength).\n",
        "# You should use the else keyword.\n",
        "\n",
        "# Challenge 24: Wavelength to Color\n",
        "\n",
        "# Get wavelength input from user\n",
        "wavelength = float(input(\"Enter the wavelength\"))\n",
        "\n",
        "# Determine the color based on wavelength range\n",
        "if 380 <= wavelength < 450:\n",
        "    print(\"The color is Violet.\")\n",
        "elif 450 <= wavelength < 495:\n",
        "    print(\"The color is Blue.\")\n",
        "elif 495 <= wavelength < 570:\n",
        "    print(\"The color is Green.\")\n",
        "elif 570 <= wavelength < 590:\n",
        "    print(\"The color is Yellow.\")\n",
        "elif 590 <= wavelength < 620:\n",
        "    print(\"The color is Orange.\")\n",
        "elif 620 <= wavelength <= 750:\n",
        "    print(\"The color is Red.\")\n",
        "else:\n",
        "    print(\"Error\")\n"
      ]
    },
    {
      "cell_type": "markdown",
      "metadata": {
        "id": "vS2d7kElgJXb"
      },
      "source": [
        "Loops and iterations"
      ]
    },
    {
      "cell_type": "code",
      "execution_count": null,
      "metadata": {
        "colab": {
          "base_uri": "https://localhost:8080/"
        },
        "id": "agd9-NbkhSWF",
        "outputId": "e5d17bdb-1b7a-4de7-ed21-1cf4cf4fe0a7"
      },
      "outputs": [
        {
          "name": "stdout",
          "output_type": "stream",
          "text": [
            "Iteration 0\n",
            "Iteration 1\n",
            "Iteration 2\n",
            "Iteration 3\n",
            "Iteration 4\n"
          ]
        }
      ],
      "source": [
        "# for, while, breaks, counters\n",
        "# Example 44\n",
        "\n",
        "for i in range(5):\n",
        "  print(f\"Iteration {i}\")"
      ]
    },
    {
      "cell_type": "code",
      "execution_count": null,
      "metadata": {
        "colab": {
          "base_uri": "https://localhost:8080/"
        },
        "id": "a5_9GSHYhY90",
        "outputId": "df663555-416b-4416-d025-7cfd3555115b"
      },
      "outputs": [
        {
          "name": "stdout",
          "output_type": "stream",
          "text": [
            "Welcome to Kenya\n",
            "Welcome to Zambia\n",
            "Welcome to South Africa\n"
          ]
        }
      ],
      "source": [
        "# Example 45\n",
        "# f stands for f-string\n",
        "# f allows us to map \"welcome to\" to each of the the i's\n",
        "# if we dont put f print will identify the i as one string varaiable\n",
        "\n",
        "countries = [\"Kenya\", \"Zambia\", \"South Africa\"]\n",
        "\n",
        "for country in countries:\n",
        "  print(f\"Welcome to {country}\")"
      ]
    },
    {
      "cell_type": "code",
      "execution_count": null,
      "metadata": {
        "colab": {
          "base_uri": "https://localhost:8080/"
        },
        "id": "vuFWGG1ziYQ1",
        "outputId": "311cca3b-d414-4362-ef64-399a7c193dea"
      },
      "outputs": [
        {
          "name": "stdout",
          "output_type": "stream",
          "text": [
            "Welcome to Kenya\n",
            "Welcome to Zambia\n",
            "Welcome to South Africa\n"
          ]
        }
      ],
      "source": [
        "# Example 45\n",
        "# f stands for f-string\n",
        "# f allows us to map \"welcome to\" to each of the the i's\n",
        "# if we dont put f print will identify the i as one string varaiable\n",
        "\n",
        "countries = [\"Kenya\", \"Zambia\", \"South Africa\"]\n",
        "\n",
        "for i in countries:\n",
        "  print(f\"Welcome to {i}\")"
      ]
    },
    {
      "cell_type": "code",
      "execution_count": null,
      "metadata": {
        "colab": {
          "background_save": true,
          "base_uri": "https://localhost:8080/"
        },
        "id": "aXxnkCPIifsY",
        "outputId": "b3af26ef-8c9b-48fe-d531-47c1c5bab68c"
      },
      "outputs": [
        {
          "name": "stdout",
          "output_type": "stream",
          "text": [
            "Welcome to {i}\n",
            "Welcome to {i}\n",
            "Welcome to {i}\n"
          ]
        }
      ],
      "source": [
        "# Example 45\n",
        "# f stands for f-string\n",
        "# f allows us to map \"welcome to\" to each of the the i's\n",
        "# if we dont put f print will identify the i as one string varaiable\n",
        "\n",
        "countries = [\"Kenya\", \"Zambia\", \"South Africa\"]\n",
        "\n",
        "for i in countries:\n",
        "  print(\"Welcome to {i}\") # dropping f"
      ]
    },
    {
      "cell_type": "code",
      "execution_count": null,
      "metadata": {
        "colab": {
          "base_uri": "https://localhost:8080/"
        },
        "id": "loFQa96ki6Cq",
        "outputId": "8590d7ee-1115-4e67-fa59-19ccc65c29bc"
      },
      "outputs": [
        {
          "name": "stdout",
          "output_type": "stream",
          "text": [
            "Count is 1\n",
            "Count is 2\n",
            "Count is 3\n",
            "Count is 4\n",
            "Count is 5\n"
          ]
        }
      ],
      "source": [
        "# Example 46\n",
        "# using while\n",
        "# loop is performed until a condition is met\n",
        "\n",
        "count = 1\n",
        "while count < 6:\n",
        "  print(f\"Count is {count}\")\n",
        "  count += 1"
      ]
    },
    {
      "cell_type": "code",
      "execution_count": null,
      "metadata": {
        "colab": {
          "base_uri": "https://localhost:8080/"
        },
        "id": "LYUHO2wlk8x0",
        "outputId": "039f9926-2b0e-4010-c8e5-9c1e9c0b23f7"
      },
      "outputs": [
        {
          "name": "stdout",
          "output_type": "stream",
          "text": [
            "Time remaining: 10 seconds\n",
            "Time remaining: 9 seconds\n",
            "Time remaining: 8 seconds\n",
            "Time remaining: 7 seconds\n",
            "Time remaining: 6 seconds\n",
            "Time remaining: 5 seconds\n",
            "Time remaining: 4 seconds\n",
            "Time remaining: 3 seconds\n",
            "Time remaining: 2 seconds\n",
            "Time remaining: 1 seconds\n",
            "Welcome to 2026!\n"
          ]
        }
      ],
      "source": [
        "# simple countdown timer\n",
        "\n",
        "timer = 10\n",
        "\n",
        "while timer > 0:\n",
        "  print(f\"Time remaining: {timer} seconds\")\n",
        "  timer -= 1\n",
        "print(\"Welcome to 2026!\")"
      ]
    },
    {
      "cell_type": "code",
      "execution_count": null,
      "metadata": {
        "id": "alk_7UDCloeA"
      },
      "outputs": [],
      "source": []
    },
    {
      "cell_type": "code",
      "execution_count": null,
      "metadata": {
        "colab": {
          "base_uri": "https://localhost:8080/"
        },
        "id": "dnZaK__xpK9y",
        "outputId": "8f677c46-3af2-4427-fcf6-f9ef08332a78"
      },
      "outputs": [
        {
          "name": "stdout",
          "output_type": "stream",
          "text": [
            "0\n",
            "1\n",
            "2\n",
            "3\n",
            "4\n",
            "Stopping the loop!\n"
          ]
        }
      ],
      "source": [
        "# break: Exit the loop prematurely\n",
        "# stop the loop when a condition is met\n",
        "# Example 48\n",
        "\n",
        "for i in range (10):\n",
        "  if i == 5:\n",
        "    print (\"Stopping the loop!\")\n",
        "    break\n",
        "  print (i)"
      ]
    },
    {
      "cell_type": "code",
      "execution_count": null,
      "metadata": {
        "colab": {
          "base_uri": "https://localhost:8080/"
        },
        "id": "H7Ol75JynImZ",
        "outputId": "41fa6e58-1731-460e-c7a5-802336842879"
      },
      "outputs": [
        {
          "name": "stdout",
          "output_type": "stream",
          "text": [
            "1\n",
            "3\n",
            "5\n",
            "7\n",
            "9\n",
            "11\n",
            "13\n",
            "15\n",
            "17\n",
            "19\n",
            "21\n",
            "23\n",
            "25\n",
            "27\n",
            "29\n",
            "31\n",
            "33\n",
            "35\n",
            "37\n",
            "39\n",
            "41\n",
            "43\n",
            "45\n",
            "47\n",
            "49\n",
            "51\n",
            "53\n",
            "55\n",
            "57\n",
            "59\n",
            "61\n",
            "63\n",
            "65\n",
            "67\n",
            "69\n",
            "71\n",
            "73\n",
            "75\n",
            "77\n",
            "79\n",
            "81\n",
            "83\n",
            "85\n",
            "87\n",
            "89\n",
            "91\n",
            "93\n",
            "95\n",
            "97\n",
            "99\n"
          ]
        }
      ],
      "source": [
        "# continue: skip the rest of the code for some current iteration\n",
        "# skip some iterations\n",
        "\n",
        "for i in range (100):\n",
        "  if i % 2 == 0: # skip the even numbers\n",
        "    continue\n",
        "  print(i)"
      ]
    },
    {
      "cell_type": "code",
      "execution_count": null,
      "metadata": {
        "colab": {
          "base_uri": "https://localhost:8080/"
        },
        "id": "j4hsfQCQrfe5",
        "outputId": "81c26b7f-c41f-4f78-8c3b-2bf0c672e5cb"
      },
      "outputs": [
        {
          "name": "stdout",
          "output_type": "stream",
          "text": [
            "*\n",
            "**\n",
            "***\n",
            "****\n"
          ]
        }
      ],
      "source": [
        "# we avoid repetition using loops\n",
        "# Example 50\n",
        "\n",
        "print(\"*\")\n",
        "print(\"**\")\n",
        "print(\"***\")\n",
        "print(\"****\")"
      ]
    },
    {
      "cell_type": "code",
      "execution_count": null,
      "metadata": {
        "id": "5oukYiUVr1Pw"
      },
      "outputs": [],
      "source": [
        "# use a loop to reprint the pattern\n",
        "\n",
        "for i in range(1,5):\n",
        "  print(\"*\" * i)"
      ]
    },
    {
      "cell_type": "code",
      "execution_count": null,
      "metadata": {
        "colab": {
          "base_uri": "https://localhost:8080/"
        },
        "id": "OaW_6tMfr9q3",
        "outputId": "88803dad-d155-44a3-b125-0280bfde22c5"
      },
      "outputs": [
        {
          "name": "stdout",
          "output_type": "stream",
          "text": [
            "Hello Sampa\n",
            "Hello Namukolo\n",
            "Hello Bupe\n",
            "Hello Leah\n",
            "Hello Zulu\n"
          ]
        }
      ],
      "source": [
        "# Iterating over some list\n",
        "# Example 52\n",
        "\n",
        "names = [\"Sampa\",\"Namukolo\",\"Bupe\", \"Leah\", \"Zulu\"]\n",
        "\n",
        "for name in names:\n",
        "  print(f\"Hello {name}\")"
      ]
    },
    {
      "cell_type": "code",
      "execution_count": null,
      "metadata": {
        "colab": {
          "base_uri": "https://localhost:8080/"
        },
        "id": "cX4tYzqfo0TW",
        "outputId": "1241d494-19b7-4090-b685-079c9b969198"
      },
      "outputs": [
        {
          "name": "stdout",
          "output_type": "stream",
          "text": [
            "Hello Zulu\n",
            "Hello Leah\n",
            "Hello Bupe\n",
            "Hello Namukolo\n",
            "Hello Sampa\n"
          ]
        }
      ],
      "source": [
        "# Iterating over some list\n",
        "# Example 52\n",
        "\n",
        "names = [\"Sampa\",\"Namukolo\",\"Bupe\", \"Leah\", \"Zulu\"]\n",
        "\n",
        "for name in reversed(names):\n",
        "  print(f\"Hello {name}\")"
      ]
    },
    {
      "cell_type": "code",
      "execution_count": null,
      "metadata": {
        "id": "vXPUVdYyrqgR",
        "colab": {
          "base_uri": "https://localhost:8080/"
        },
        "outputId": "d4596ef4-c9ba-4bb2-b4d9-aea2bdd9c745"
      },
      "outputs": [
        {
          "output_type": "stream",
          "name": "stdout",
          "text": [
            "1\n",
            "2\n",
            "fizz 3\n",
            "4\n",
            "buzz 5\n",
            "fizz 6\n",
            "7\n",
            "8\n",
            "fizz 9\n",
            "buzz 10\n",
            "11\n",
            "fizz 12\n",
            "13\n",
            "14\n",
            "fizzbuzz 15\n",
            "16\n",
            "17\n",
            "fizz 18\n",
            "19\n",
            "buzz 20\n"
          ]
        }
      ],
      "source": [
        "# Challenge 25\n",
        "# Problem: Print numbers from 1 to 20. For multiples of 3, print \"Fizz\";\n",
        "# for multiples of 5, print \"Buzz\"; for multiples of both, print \"FizzBuzz.\"\n",
        "for i in range(1, 21):\n",
        "    if i % 3 == 0 and i % 5 == 0:\n",
        "        print(f\"fizzbuzz {i}\")\n",
        "    elif i % 3 == 0:\n",
        "        print(f\"fizz {i}\")\n",
        "    elif i % 5 == 0:\n",
        "        print(f\"buzz {i}\")\n",
        "    else:\n",
        "        print(i)"
      ]
    },
    {
      "cell_type": "code",
      "execution_count": null,
      "metadata": {
        "id": "PIDArXtXvRnc",
        "colab": {
          "base_uri": "https://localhost:8080/"
        },
        "outputId": "b9ed3b4d-b5cf-4ef5-f8ca-564ba2747c49"
      },
      "outputs": [
        {
          "output_type": "stream",
          "name": "stdout",
          "text": [
            "Enter your password: Tb\n",
            "Incorrect password. You have 2 attempt(s) left.\n",
            "Enter your password: Td\n",
            "Incorrect password. You have 1 attempt(s) left.\n",
            "Enter your password: Th\n",
            "locked out.\n"
          ]
        }
      ],
      "source": [
        "# Challenge 26\n",
        "# Password Validation\n",
        "# Problem: Prompt the user to enter a password. Allow up to 3 attempts before locking them out.\n",
        "\n",
        "# Define the correct password\n",
        "# Challenge 26: Password Validation\n",
        "\n",
        "# Define the correct password\n",
        "correct_password = \"t2025\"\n",
        "\n",
        "# Give the user 3 attempts\n",
        "attempts = 3\n",
        "\n",
        "while attempts > 0:\n",
        "    # Prompt the user to enter the password\n",
        "    entered_password = input(\"Enter your password: \")\n",
        "\n",
        "    # Check if the password is correct\n",
        "    if entered_password == correct_password:\n",
        "        print(\"Access granted. Welcome!\")\n",
        "        break\n",
        "    else:\n",
        "        attempts -= 1\n",
        "        if attempts > 0:\n",
        "            print(f\"Incorrect password. You have {attempts} attempt(s) left.\")\n",
        "        else:\n",
        "            print(\"locked out.\")"
      ]
    },
    {
      "cell_type": "markdown",
      "source": [],
      "metadata": {
        "id": "RK6l9Nkvh3mf"
      }
    },
    {
      "cell_type": "code",
      "execution_count": null,
      "metadata": {
        "id": "jXbqUwF_vgwC",
        "colab": {
          "base_uri": "https://localhost:8080/"
        },
        "outputId": "3f25d5ea-38cd-460d-87f7-76abb90782a7"
      },
      "outputs": [
        {
          "output_type": "stream",
          "name": "stdout",
          "text": [
            "The sum of all even numbers from 1 to 100 is: 2550\n"
          ]
        }
      ],
      "source": [
        "# Challenge 27\n",
        "# Summation: Find the sum of all even numbers between 1 and 100.\n",
        "# # Using a loop to sum even numbers\n",
        "# Challenge 27: Sum of even numbers from 1 to 100\n",
        "\n",
        "total = 0\n",
        "\n",
        "for number in range(1, 101):\n",
        "    if number % 2 == 0:\n",
        "        total += number\n",
        "\n",
        "print(\"The sum of all even numbers from 1 to 100 is:\", total)"
      ]
    },
    {
      "cell_type": "markdown",
      "source": [
        "Lists, Tuples, Dictionaries, Sets"
      ],
      "metadata": {
        "id": "kfhpK9q7v66F"
      }
    },
    {
      "cell_type": "code",
      "source": [
        "# Example 53\n",
        "# lists\n",
        "\n",
        "my_list = [1,2, 4, \"Epic\", float(45), False]\n",
        "print(my_list)"
      ],
      "metadata": {
        "colab": {
          "base_uri": "https://localhost:8080/"
        },
        "id": "pJ_SeFXlwhOE",
        "outputId": "e1b096ee-9ac5-414f-f540-dc773c16c267"
      },
      "execution_count": null,
      "outputs": [
        {
          "output_type": "stream",
          "name": "stdout",
          "text": [
            "[1, 2, 4, 'Epic', 45.0, False]\n"
          ]
        }
      ]
    },
    {
      "cell_type": "code",
      "source": [
        "# Example 54\n",
        "# retrieving an item in a list\n",
        "\n",
        "my_list[3]"
      ],
      "metadata": {
        "colab": {
          "base_uri": "https://localhost:8080/",
          "height": 36
        },
        "id": "i3zNA5_azzsx",
        "outputId": "9dacfed6-cad3-46f0-e445-9dbdd0c87468"
      },
      "execution_count": null,
      "outputs": [
        {
          "output_type": "execute_result",
          "data": {
            "text/plain": [
              "'Epic'"
            ],
            "application/vnd.google.colaboratory.intrinsic+json": {
              "type": "string"
            }
          },
          "metadata": {},
          "execution_count": 2
        }
      ]
    },
    {
      "cell_type": "code",
      "source": [
        "# Example 56\n",
        "# is it possible to join lists\n",
        "\n",
        "list1 = [\"Man Utd\", \"Fan\"]\n",
        "\n",
        "list_2 = my_list + list1\n",
        "print(list_2)"
      ],
      "metadata": {
        "colab": {
          "base_uri": "https://localhost:8080/"
        },
        "id": "dHYx93N40tMx",
        "outputId": "9811d224-3e91-4c2d-f3ae-952a519c1a10"
      },
      "execution_count": null,
      "outputs": [
        {
          "output_type": "stream",
          "name": "stdout",
          "text": [
            "[1, 2, 4, 'Epic', 45.0, False, 'Favorite Student', 'Man Utd', 'Fan']\n"
          ]
        }
      ]
    },
    {
      "cell_type": "code",
      "source": [
        "# Example 57\n",
        "# we can use the extend function to combine two lists\n",
        "\n",
        "my_list.extend(list_2)\n",
        "print(my_list)"
      ],
      "metadata": {
        "colab": {
          "base_uri": "https://localhost:8080/"
        },
        "id": "WXRSKaNz1JXZ",
        "outputId": "be15ff71-45bb-4485-cdce-631e7aaf1ea1"
      },
      "execution_count": null,
      "outputs": [
        {
          "output_type": "stream",
          "name": "stdout",
          "text": [
            "[1, 2, 4, 'Epic', 45.0, False, 'Favorite Student', 1, 2, 4, 'Epic', 45.0, False, 'Favorite Student', 'Man Utd', 'Fan']\n"
          ]
        }
      ]
    },
    {
      "cell_type": "code",
      "source": [
        "# Challenge 28\n",
        "# find out if we can remove items from a list"
      ],
      "metadata": {
        "id": "rZFHIvDq10Uw"
      },
      "execution_count": null,
      "outputs": []
    },
    {
      "cell_type": "code",
      "source": [
        "# tuples\n",
        "my_tuple = (1,2,3,4,5)\n",
        "print(my_tuple)"
      ],
      "metadata": {
        "colab": {
          "base_uri": "https://localhost:8080/"
        },
        "id": "6d3RnU0m1pGp",
        "outputId": "fdff7ed7-5f45-46b9-b5eb-a237dca111d8"
      },
      "execution_count": null,
      "outputs": [
        {
          "output_type": "stream",
          "name": "stdout",
          "text": [
            "(1, 2, 3, 4, 5)\n"
          ]
        }
      ]
    },
    {
      "cell_type": "code",
      "source": [
        "# can we get a certain item from a tuple\n",
        "\n",
        "my_tuple[3]"
      ],
      "metadata": {
        "colab": {
          "base_uri": "https://localhost:8080/"
        },
        "id": "HZRfh0-52FnV",
        "outputId": "523cb26b-0e51-4746-f76c-4a5ac4c7f27f"
      },
      "execution_count": null,
      "outputs": [
        {
          "output_type": "execute_result",
          "data": {
            "text/plain": [
              "4"
            ]
          },
          "metadata": {},
          "execution_count": 7
        }
      ]
    },
    {
      "cell_type": "code",
      "source": [
        "# coordinates of a place\n",
        "coordinates = (-1.456784, 36.98765)\n",
        "red = (255, 0, 0) # rgb color coding\n",
        "green = (0, 255, 0)\n",
        "blue = (0,0,255)\n",
        "black = (0,0,0)"
      ],
      "metadata": {
        "id": "n59xgJ8I2UPh"
      },
      "execution_count": null,
      "outputs": []
    },
    {
      "cell_type": "code",
      "source": [
        "# dictionary\n",
        "# Example 59\n",
        "\n",
        "my_dict = { \"name\": \"Zulu\", \"age\":22}\n",
        "print(my_dict)"
      ],
      "metadata": {
        "colab": {
          "base_uri": "https://localhost:8080/"
        },
        "id": "nH9dY4tV3PAS",
        "outputId": "906b9d28-21a6-421d-a9e8-f8b530f88660"
      },
      "execution_count": null,
      "outputs": [
        {
          "output_type": "stream",
          "name": "stdout",
          "text": [
            "{'name': 'Zulu', 'age': 22}\n"
          ]
        }
      ]
    },
    {
      "cell_type": "code",
      "source": [
        "# calling a variable from a dictionary\n",
        "my_dict[\"name\"]"
      ],
      "metadata": {
        "colab": {
          "base_uri": "https://localhost:8080/",
          "height": 35
        },
        "id": "IEo-pUF-4IYo",
        "outputId": "6fea9053-e53d-4f70-8635-16a3da1c53b5"
      },
      "execution_count": null,
      "outputs": [
        {
          "output_type": "execute_result",
          "data": {
            "text/plain": [
              "'Zulu'"
            ],
            "application/vnd.google.colaboratory.intrinsic+json": {
              "type": "string"
            }
          },
          "metadata": {},
          "execution_count": 9
        }
      ]
    },
    {
      "cell_type": "code",
      "source": [
        "# Example 60\n",
        "# adding items to a dictionary\n",
        "\n",
        "my_dict[\"club\"] = \"Man Utd\"\n",
        "my_dict"
      ],
      "metadata": {
        "colab": {
          "base_uri": "https://localhost:8080/"
        },
        "id": "GcGywWLm4ZH4",
        "outputId": "909e5c17-b61f-4ee7-d45f-3409d4463b4e"
      },
      "execution_count": null,
      "outputs": [
        {
          "output_type": "execute_result",
          "data": {
            "text/plain": [
              "{'name': 'Zulu', 'age': 22, 'club': 'Man Utd'}"
            ]
          },
          "metadata": {},
          "execution_count": 11
        }
      ]
    },
    {
      "cell_type": "code",
      "source": [
        "# Example 60\n",
        "# adding items to a dictionary\n",
        "\n",
        "my_dict[\"club\"] = \"Man Utd\"\n",
        "my_dict"
      ],
      "metadata": {
        "colab": {
          "base_uri": "https://localhost:8080/"
        },
        "outputId": "909e5c17-b61f-4ee7-d45f-3409d4463b4e",
        "id": "QQQNaCTq2Drb"
      },
      "execution_count": null,
      "outputs": [
        {
          "output_type": "execute_result",
          "data": {
            "text/plain": [
              "{'name': 'Zulu', 'age': 22, 'club': 'Man Utd'}"
            ]
          },
          "metadata": {},
          "execution_count": 11
        }
      ]
    },
    {
      "cell_type": "code",
      "source": [
        "# Example 61\n",
        "# is it possible to add more than item in a variable\n",
        "\n",
        "my_dict2 = {\n",
        "    \"name\":[\"Zulu\",\"Bupe\", \"Sampa\", \"Namukolo\"],\n",
        "    \"age\": [22, 22, 16, 16],\n",
        "    \"club\": [\"Man Utd\", \"Man Utd\", \"Man Utd\", \"Arsenal\"],\n",
        "    \"position\": [\"fan\", \"midfielder\", \"striker\",\"striker\"]\n",
        "}\n",
        "\n",
        "my_dict2"
      ],
      "metadata": {
        "colab": {
          "base_uri": "https://localhost:8080/"
        },
        "id": "y0mkTmiy4yQo",
        "outputId": "934817aa-c341-410a-8f9b-68824937e2cc"
      },
      "execution_count": null,
      "outputs": [
        {
          "output_type": "execute_result",
          "data": {
            "text/plain": [
              "{'name': ['Zulu', 'Bupe', 'Sampa', 'Namukolo'],\n",
              " 'age': [22, 22, 16, 16],\n",
              " 'club': ['Man Utd', 'Man Utd', 'Man Utd', 'Arsenal'],\n",
              " 'position': ['fan', 'midfielder', 'striker', 'striker']}"
            ]
          },
          "metadata": {},
          "execution_count": 6
        }
      ]
    },
    {
      "cell_type": "code",
      "source": [
        "# library called pandas\n",
        "# a library is a collection of functions that perform some\n",
        "# specific task\n",
        "\n",
        "import pandas as pd\n",
        "df = pd.DataFrame(my_dict2)\n",
        "df"
      ],
      "metadata": {
        "colab": {
          "base_uri": "https://localhost:8080/",
          "height": 175
        },
        "id": "eJTVrNtf6Ytm",
        "outputId": "eec12344-669a-4ab3-d410-558cef04b292"
      },
      "execution_count": null,
      "outputs": [
        {
          "output_type": "execute_result",
          "data": {
            "text/plain": [
              "       name  age     club    position\n",
              "0      Zulu   22  Man Utd         fan\n",
              "1      Bupe   22  Man Utd  midfielder\n",
              "2     Sampa   16  Man Utd     striker\n",
              "3  Namukolo   16  Arsenal     striker"
            ],
            "text/html": [
              "\n",
              "  <div id=\"df-7a548ae0-1443-40e5-bfa9-19af7e38375e\" class=\"colab-df-container\">\n",
              "    <div>\n",
              "<style scoped>\n",
              "    .dataframe tbody tr th:only-of-type {\n",
              "        vertical-align: middle;\n",
              "    }\n",
              "\n",
              "    .dataframe tbody tr th {\n",
              "        vertical-align: top;\n",
              "    }\n",
              "\n",
              "    .dataframe thead th {\n",
              "        text-align: right;\n",
              "    }\n",
              "</style>\n",
              "<table border=\"1\" class=\"dataframe\">\n",
              "  <thead>\n",
              "    <tr style=\"text-align: right;\">\n",
              "      <th></th>\n",
              "      <th>name</th>\n",
              "      <th>age</th>\n",
              "      <th>club</th>\n",
              "      <th>position</th>\n",
              "    </tr>\n",
              "  </thead>\n",
              "  <tbody>\n",
              "    <tr>\n",
              "      <th>0</th>\n",
              "      <td>Zulu</td>\n",
              "      <td>22</td>\n",
              "      <td>Man Utd</td>\n",
              "      <td>fan</td>\n",
              "    </tr>\n",
              "    <tr>\n",
              "      <th>1</th>\n",
              "      <td>Bupe</td>\n",
              "      <td>22</td>\n",
              "      <td>Man Utd</td>\n",
              "      <td>midfielder</td>\n",
              "    </tr>\n",
              "    <tr>\n",
              "      <th>2</th>\n",
              "      <td>Sampa</td>\n",
              "      <td>16</td>\n",
              "      <td>Man Utd</td>\n",
              "      <td>striker</td>\n",
              "    </tr>\n",
              "    <tr>\n",
              "      <th>3</th>\n",
              "      <td>Namukolo</td>\n",
              "      <td>16</td>\n",
              "      <td>Arsenal</td>\n",
              "      <td>striker</td>\n",
              "    </tr>\n",
              "  </tbody>\n",
              "</table>\n",
              "</div>\n",
              "    <div class=\"colab-df-buttons\">\n",
              "\n",
              "  <div class=\"colab-df-container\">\n",
              "    <button class=\"colab-df-convert\" onclick=\"convertToInteractive('df-7a548ae0-1443-40e5-bfa9-19af7e38375e')\"\n",
              "            title=\"Convert this dataframe to an interactive table.\"\n",
              "            style=\"display:none;\">\n",
              "\n",
              "  <svg xmlns=\"http://www.w3.org/2000/svg\" height=\"24px\" viewBox=\"0 -960 960 960\">\n",
              "    <path d=\"M120-120v-720h720v720H120Zm60-500h600v-160H180v160Zm220 220h160v-160H400v160Zm0 220h160v-160H400v160ZM180-400h160v-160H180v160Zm440 0h160v-160H620v160ZM180-180h160v-160H180v160Zm440 0h160v-160H620v160Z\"/>\n",
              "  </svg>\n",
              "    </button>\n",
              "\n",
              "  <style>\n",
              "    .colab-df-container {\n",
              "      display:flex;\n",
              "      gap: 12px;\n",
              "    }\n",
              "\n",
              "    .colab-df-convert {\n",
              "      background-color: #E8F0FE;\n",
              "      border: none;\n",
              "      border-radius: 50%;\n",
              "      cursor: pointer;\n",
              "      display: none;\n",
              "      fill: #1967D2;\n",
              "      height: 32px;\n",
              "      padding: 0 0 0 0;\n",
              "      width: 32px;\n",
              "    }\n",
              "\n",
              "    .colab-df-convert:hover {\n",
              "      background-color: #E2EBFA;\n",
              "      box-shadow: 0px 1px 2px rgba(60, 64, 67, 0.3), 0px 1px 3px 1px rgba(60, 64, 67, 0.15);\n",
              "      fill: #174EA6;\n",
              "    }\n",
              "\n",
              "    .colab-df-buttons div {\n",
              "      margin-bottom: 4px;\n",
              "    }\n",
              "\n",
              "    [theme=dark] .colab-df-convert {\n",
              "      background-color: #3B4455;\n",
              "      fill: #D2E3FC;\n",
              "    }\n",
              "\n",
              "    [theme=dark] .colab-df-convert:hover {\n",
              "      background-color: #434B5C;\n",
              "      box-shadow: 0px 1px 3px 1px rgba(0, 0, 0, 0.15);\n",
              "      filter: drop-shadow(0px 1px 2px rgba(0, 0, 0, 0.3));\n",
              "      fill: #FFFFFF;\n",
              "    }\n",
              "  </style>\n",
              "\n",
              "    <script>\n",
              "      const buttonEl =\n",
              "        document.querySelector('#df-7a548ae0-1443-40e5-bfa9-19af7e38375e button.colab-df-convert');\n",
              "      buttonEl.style.display =\n",
              "        google.colab.kernel.accessAllowed ? 'block' : 'none';\n",
              "\n",
              "      async function convertToInteractive(key) {\n",
              "        const element = document.querySelector('#df-7a548ae0-1443-40e5-bfa9-19af7e38375e');\n",
              "        const dataTable =\n",
              "          await google.colab.kernel.invokeFunction('convertToInteractive',\n",
              "                                                    [key], {});\n",
              "        if (!dataTable) return;\n",
              "\n",
              "        const docLinkHtml = 'Like what you see? Visit the ' +\n",
              "          '<a target=\"_blank\" href=https://colab.research.google.com/notebooks/data_table.ipynb>data table notebook</a>'\n",
              "          + ' to learn more about interactive tables.';\n",
              "        element.innerHTML = '';\n",
              "        dataTable['output_type'] = 'display_data';\n",
              "        await google.colab.output.renderOutput(dataTable, element);\n",
              "        const docLink = document.createElement('div');\n",
              "        docLink.innerHTML = docLinkHtml;\n",
              "        element.appendChild(docLink);\n",
              "      }\n",
              "    </script>\n",
              "  </div>\n",
              "\n",
              "\n",
              "    <div id=\"df-c4b0ab35-31f7-4658-8554-5588eb4222f8\">\n",
              "      <button class=\"colab-df-quickchart\" onclick=\"quickchart('df-c4b0ab35-31f7-4658-8554-5588eb4222f8')\"\n",
              "                title=\"Suggest charts\"\n",
              "                style=\"display:none;\">\n",
              "\n",
              "<svg xmlns=\"http://www.w3.org/2000/svg\" height=\"24px\"viewBox=\"0 0 24 24\"\n",
              "     width=\"24px\">\n",
              "    <g>\n",
              "        <path d=\"M19 3H5c-1.1 0-2 .9-2 2v14c0 1.1.9 2 2 2h14c1.1 0 2-.9 2-2V5c0-1.1-.9-2-2-2zM9 17H7v-7h2v7zm4 0h-2V7h2v10zm4 0h-2v-4h2v4z\"/>\n",
              "    </g>\n",
              "</svg>\n",
              "      </button>\n",
              "\n",
              "<style>\n",
              "  .colab-df-quickchart {\n",
              "      --bg-color: #E8F0FE;\n",
              "      --fill-color: #1967D2;\n",
              "      --hover-bg-color: #E2EBFA;\n",
              "      --hover-fill-color: #174EA6;\n",
              "      --disabled-fill-color: #AAA;\n",
              "      --disabled-bg-color: #DDD;\n",
              "  }\n",
              "\n",
              "  [theme=dark] .colab-df-quickchart {\n",
              "      --bg-color: #3B4455;\n",
              "      --fill-color: #D2E3FC;\n",
              "      --hover-bg-color: #434B5C;\n",
              "      --hover-fill-color: #FFFFFF;\n",
              "      --disabled-bg-color: #3B4455;\n",
              "      --disabled-fill-color: #666;\n",
              "  }\n",
              "\n",
              "  .colab-df-quickchart {\n",
              "    background-color: var(--bg-color);\n",
              "    border: none;\n",
              "    border-radius: 50%;\n",
              "    cursor: pointer;\n",
              "    display: none;\n",
              "    fill: var(--fill-color);\n",
              "    height: 32px;\n",
              "    padding: 0;\n",
              "    width: 32px;\n",
              "  }\n",
              "\n",
              "  .colab-df-quickchart:hover {\n",
              "    background-color: var(--hover-bg-color);\n",
              "    box-shadow: 0 1px 2px rgba(60, 64, 67, 0.3), 0 1px 3px 1px rgba(60, 64, 67, 0.15);\n",
              "    fill: var(--button-hover-fill-color);\n",
              "  }\n",
              "\n",
              "  .colab-df-quickchart-complete:disabled,\n",
              "  .colab-df-quickchart-complete:disabled:hover {\n",
              "    background-color: var(--disabled-bg-color);\n",
              "    fill: var(--disabled-fill-color);\n",
              "    box-shadow: none;\n",
              "  }\n",
              "\n",
              "  .colab-df-spinner {\n",
              "    border: 2px solid var(--fill-color);\n",
              "    border-color: transparent;\n",
              "    border-bottom-color: var(--fill-color);\n",
              "    animation:\n",
              "      spin 1s steps(1) infinite;\n",
              "  }\n",
              "\n",
              "  @keyframes spin {\n",
              "    0% {\n",
              "      border-color: transparent;\n",
              "      border-bottom-color: var(--fill-color);\n",
              "      border-left-color: var(--fill-color);\n",
              "    }\n",
              "    20% {\n",
              "      border-color: transparent;\n",
              "      border-left-color: var(--fill-color);\n",
              "      border-top-color: var(--fill-color);\n",
              "    }\n",
              "    30% {\n",
              "      border-color: transparent;\n",
              "      border-left-color: var(--fill-color);\n",
              "      border-top-color: var(--fill-color);\n",
              "      border-right-color: var(--fill-color);\n",
              "    }\n",
              "    40% {\n",
              "      border-color: transparent;\n",
              "      border-right-color: var(--fill-color);\n",
              "      border-top-color: var(--fill-color);\n",
              "    }\n",
              "    60% {\n",
              "      border-color: transparent;\n",
              "      border-right-color: var(--fill-color);\n",
              "    }\n",
              "    80% {\n",
              "      border-color: transparent;\n",
              "      border-right-color: var(--fill-color);\n",
              "      border-bottom-color: var(--fill-color);\n",
              "    }\n",
              "    90% {\n",
              "      border-color: transparent;\n",
              "      border-bottom-color: var(--fill-color);\n",
              "    }\n",
              "  }\n",
              "</style>\n",
              "\n",
              "      <script>\n",
              "        async function quickchart(key) {\n",
              "          const quickchartButtonEl =\n",
              "            document.querySelector('#' + key + ' button');\n",
              "          quickchartButtonEl.disabled = true;  // To prevent multiple clicks.\n",
              "          quickchartButtonEl.classList.add('colab-df-spinner');\n",
              "          try {\n",
              "            const charts = await google.colab.kernel.invokeFunction(\n",
              "                'suggestCharts', [key], {});\n",
              "          } catch (error) {\n",
              "            console.error('Error during call to suggestCharts:', error);\n",
              "          }\n",
              "          quickchartButtonEl.classList.remove('colab-df-spinner');\n",
              "          quickchartButtonEl.classList.add('colab-df-quickchart-complete');\n",
              "        }\n",
              "        (() => {\n",
              "          let quickchartButtonEl =\n",
              "            document.querySelector('#df-c4b0ab35-31f7-4658-8554-5588eb4222f8 button');\n",
              "          quickchartButtonEl.style.display =\n",
              "            google.colab.kernel.accessAllowed ? 'block' : 'none';\n",
              "        })();\n",
              "      </script>\n",
              "    </div>\n",
              "\n",
              "  <div id=\"id_547ae2ce-cd04-4c71-835c-cca391ded2bd\">\n",
              "    <style>\n",
              "      .colab-df-generate {\n",
              "        background-color: #E8F0FE;\n",
              "        border: none;\n",
              "        border-radius: 50%;\n",
              "        cursor: pointer;\n",
              "        display: none;\n",
              "        fill: #1967D2;\n",
              "        height: 32px;\n",
              "        padding: 0 0 0 0;\n",
              "        width: 32px;\n",
              "      }\n",
              "\n",
              "      .colab-df-generate:hover {\n",
              "        background-color: #E2EBFA;\n",
              "        box-shadow: 0px 1px 2px rgba(60, 64, 67, 0.3), 0px 1px 3px 1px rgba(60, 64, 67, 0.15);\n",
              "        fill: #174EA6;\n",
              "      }\n",
              "\n",
              "      [theme=dark] .colab-df-generate {\n",
              "        background-color: #3B4455;\n",
              "        fill: #D2E3FC;\n",
              "      }\n",
              "\n",
              "      [theme=dark] .colab-df-generate:hover {\n",
              "        background-color: #434B5C;\n",
              "        box-shadow: 0px 1px 3px 1px rgba(0, 0, 0, 0.15);\n",
              "        filter: drop-shadow(0px 1px 2px rgba(0, 0, 0, 0.3));\n",
              "        fill: #FFFFFF;\n",
              "      }\n",
              "    </style>\n",
              "    <button class=\"colab-df-generate\" onclick=\"generateWithVariable('df')\"\n",
              "            title=\"Generate code using this dataframe.\"\n",
              "            style=\"display:none;\">\n",
              "\n",
              "  <svg xmlns=\"http://www.w3.org/2000/svg\" height=\"24px\"viewBox=\"0 0 24 24\"\n",
              "       width=\"24px\">\n",
              "    <path d=\"M7,19H8.4L18.45,9,17,7.55,7,17.6ZM5,21V16.75L18.45,3.32a2,2,0,0,1,2.83,0l1.4,1.43a1.91,1.91,0,0,1,.58,1.4,1.91,1.91,0,0,1-.58,1.4L9.25,21ZM18.45,9,17,7.55Zm-12,3A5.31,5.31,0,0,0,4.9,8.1,5.31,5.31,0,0,0,1,6.5,5.31,5.31,0,0,0,4.9,4.9,5.31,5.31,0,0,0,6.5,1,5.31,5.31,0,0,0,8.1,4.9,5.31,5.31,0,0,0,12,6.5,5.46,5.46,0,0,0,6.5,12Z\"/>\n",
              "  </svg>\n",
              "    </button>\n",
              "    <script>\n",
              "      (() => {\n",
              "      const buttonEl =\n",
              "        document.querySelector('#id_547ae2ce-cd04-4c71-835c-cca391ded2bd button.colab-df-generate');\n",
              "      buttonEl.style.display =\n",
              "        google.colab.kernel.accessAllowed ? 'block' : 'none';\n",
              "\n",
              "      buttonEl.onclick = () => {\n",
              "        google.colab.notebook.generateWithVariable('df');\n",
              "      }\n",
              "      })();\n",
              "    </script>\n",
              "  </div>\n",
              "\n",
              "    </div>\n",
              "  </div>\n"
            ],
            "application/vnd.google.colaboratory.intrinsic+json": {
              "type": "dataframe",
              "variable_name": "df",
              "summary": "{\n  \"name\": \"df\",\n  \"rows\": 4,\n  \"fields\": [\n    {\n      \"column\": \"name\",\n      \"properties\": {\n        \"dtype\": \"string\",\n        \"num_unique_values\": 4,\n        \"samples\": [\n          \"Bupe\",\n          \"Namukolo\",\n          \"Zulu\"\n        ],\n        \"semantic_type\": \"\",\n        \"description\": \"\"\n      }\n    },\n    {\n      \"column\": \"age\",\n      \"properties\": {\n        \"dtype\": \"number\",\n        \"std\": 3,\n        \"min\": 16,\n        \"max\": 22,\n        \"num_unique_values\": 2,\n        \"samples\": [\n          16,\n          22\n        ],\n        \"semantic_type\": \"\",\n        \"description\": \"\"\n      }\n    },\n    {\n      \"column\": \"club\",\n      \"properties\": {\n        \"dtype\": \"string\",\n        \"num_unique_values\": 2,\n        \"samples\": [\n          \"Arsenal\",\n          \"Man Utd\"\n        ],\n        \"semantic_type\": \"\",\n        \"description\": \"\"\n      }\n    },\n    {\n      \"column\": \"position\",\n      \"properties\": {\n        \"dtype\": \"string\",\n        \"num_unique_values\": 3,\n        \"samples\": [\n          \"fan\",\n          \"midfielder\"\n        ],\n        \"semantic_type\": \"\",\n        \"description\": \"\"\n      }\n    }\n  ]\n}"
            }
          },
          "metadata": {},
          "execution_count": 7
        }
      ]
    },
    {
      "cell_type": "code",
      "source": [
        "df[\"club\"].value_counts()"
      ],
      "metadata": {
        "colab": {
          "base_uri": "https://localhost:8080/",
          "height": 178
        },
        "id": "HO2DK0_P7d-a",
        "outputId": "59dbaa8c-6f7a-4a3c-d432-0616900c3293"
      },
      "execution_count": null,
      "outputs": [
        {
          "output_type": "execute_result",
          "data": {
            "text/plain": [
              "club\n",
              "Man Utd    3\n",
              "Arsenal    1\n",
              "Name: count, dtype: int64"
            ],
            "text/html": [
              "<div>\n",
              "<style scoped>\n",
              "    .dataframe tbody tr th:only-of-type {\n",
              "        vertical-align: middle;\n",
              "    }\n",
              "\n",
              "    .dataframe tbody tr th {\n",
              "        vertical-align: top;\n",
              "    }\n",
              "\n",
              "    .dataframe thead th {\n",
              "        text-align: right;\n",
              "    }\n",
              "</style>\n",
              "<table border=\"1\" class=\"dataframe\">\n",
              "  <thead>\n",
              "    <tr style=\"text-align: right;\">\n",
              "      <th></th>\n",
              "      <th>count</th>\n",
              "    </tr>\n",
              "    <tr>\n",
              "      <th>club</th>\n",
              "      <th></th>\n",
              "    </tr>\n",
              "  </thead>\n",
              "  <tbody>\n",
              "    <tr>\n",
              "      <th>Man Utd</th>\n",
              "      <td>3</td>\n",
              "    </tr>\n",
              "    <tr>\n",
              "      <th>Arsenal</th>\n",
              "      <td>1</td>\n",
              "    </tr>\n",
              "  </tbody>\n",
              "</table>\n",
              "</div><br><label><b>dtype:</b> int64</label>"
            ]
          },
          "metadata": {},
          "execution_count": 14
        }
      ]
    },
    {
      "cell_type": "code",
      "source": [],
      "metadata": {
        "id": "I2nqurvz3xeR"
      },
      "execution_count": null,
      "outputs": []
    },
    {
      "cell_type": "code",
      "source": [
        "# Challenge 29\n",
        "# using a dictionary as a value of a dictionary\n",
        "# create a dictionary called products\n",
        "# add 2 dictionaries one called Laptop and the other called mouse\n",
        "# For each of the products assign price, the number in stock,\n",
        "# and the category (Electronics, Accessories)\n",
        "products = {\n",
        "    \"Laptop\": {\n",
        "        \"price\": 1000,\n",
        "        \"stock\": 15,\n",
        "        \"category\": \"Electronics\"\n",
        "    },\n",
        "    \"Mouse\": {\n",
        "        \"price\": 25,\n",
        "        \"stock\": 100,\n",
        "        \"category\": \"Accessories\"\n",
        "    }\n",
        "}\n",
        "print(products)"
      ],
      "metadata": {
        "colab": {
          "base_uri": "https://localhost:8080/"
        },
        "id": "nU7gMVG_7WRT",
        "outputId": "468c296a-eb1c-4cf8-e23b-a80b678e62fb"
      },
      "execution_count": null,
      "outputs": [
        {
          "output_type": "stream",
          "name": "stdout",
          "text": [
            "{'Laptop': {'price': 1000, 'stock': 15, 'category': 'Electronics'}, 'Mouse': {'price': 25, 'stock': 100, 'category': 'Accessories'}}\n"
          ]
        }
      ]
    },
    {
      "cell_type": "code",
      "source": [
        "laptop={\"price\":10000, \"stock\":20, \"category\":\"elctronics\"}\n",
        "mouse={\"price\":25, \"stock\":100, \"category\":\"accessories\"}\n"
      ],
      "metadata": {
        "id": "vIXVbNtT7mvU"
      },
      "execution_count": null,
      "outputs": []
    },
    {
      "cell_type": "code",
      "source": [],
      "metadata": {
        "id": "OKAAoF3Y-w6d"
      },
      "execution_count": null,
      "outputs": []
    },
    {
      "cell_type": "code",
      "source": [
        "# Challenge 29\n",
        "# using a dictionary as a value of a dictionary\n",
        "# create a dictionary called products\n",
        "# add 2 dictionaries one called Laptop and the other called mouse\n",
        "# For each of the products assign price, the number in stock,\n",
        "# and the category (Electronics, Accessories)\n",
        "products = {\"Laptop\": {\"price\": 1000,\"stock\": 15,\"category\": \"Electronics\" },\"Mouse\": { \"price\": 25, \"stock\": 100, \"category\": \"Accessories\" }}\n",
        "print(products)"
      ],
      "metadata": {
        "colab": {
          "base_uri": "https://localhost:8080/"
        },
        "outputId": "350523c4-3c1a-4fa2-857e-fadd94af868e",
        "id": "Z-Nza-45-xt1"
      },
      "execution_count": null,
      "outputs": [
        {
          "output_type": "stream",
          "name": "stdout",
          "text": [
            "{'Laptop': {'price': 1000, 'stock': 15, 'category': 'Electronics'}, 'Mouse': {'price': 25, 'stock': 100, 'category': 'Accessories'}}\n"
          ]
        }
      ]
    },
    {
      "cell_type": "code",
      "source": [
        "# Challenge 29\n",
        "# using a dictionary as a value of a dictionary\n",
        "# create a dictionary called products\n",
        "# add 2 dictionaries one called Laptop and the other called mouse\n",
        "# to the dictionary products\n",
        "# For each of the products assign price, the number in stock,\n",
        "# and the category (Electronics, Accessories)\n",
        "\n",
        "products = {\n",
        "    \"Laptop\": {\n",
        "        \"price\": 47000,\n",
        "        \"stock\": 350,\n",
        "        \"category\": \"Electronics\"\n",
        "    },\n",
        "\n",
        "    \"Mouse\": {\n",
        "        \"price\": 5000,\n",
        "        \"stock\": 500,\n",
        "        \"category\": \"Accessories\"\n",
        "    }\n",
        "}\n",
        "\n",
        "print(f\"Laptop details: {products['Laptop']}\")\n",
        "print(f\"Mice details: {products['Mouse']}\")"
      ],
      "metadata": {
        "colab": {
          "base_uri": "https://localhost:8080/"
        },
        "id": "XivHqFHA7zTm",
        "outputId": "73e3c372-0a6e-47c2-fdf3-5bdb36a02ce9"
      },
      "execution_count": null,
      "outputs": [
        {
          "output_type": "stream",
          "name": "stdout",
          "text": [
            "Laptop details: {'price': 47000, 'stock': 350, 'category': 'Electronics'}\n",
            "Mice details: {'price': 5000, 'stock': 500, 'category': 'Accessories'}\n"
          ]
        }
      ]
    },
    {
      "cell_type": "code",
      "source": [],
      "metadata": {
        "id": "ii8YR7oVCiqn"
      },
      "execution_count": null,
      "outputs": []
    },
    {
      "cell_type": "code",
      "source": [
        "# Example 63\n",
        "# converting the products dictionary into a data frame\n",
        "# tensors\n",
        "\n",
        "df = pd.DataFrame(products)\n",
        "df"
      ],
      "metadata": {
        "colab": {
          "base_uri": "https://localhost:8080/",
          "height": 143
        },
        "id": "-BXYF6SBDgoP",
        "outputId": "aa3ce0cd-7fff-4771-e499-afdc0f7d7d49"
      },
      "execution_count": null,
      "outputs": [
        {
          "output_type": "execute_result",
          "data": {
            "text/plain": [
              "               Laptop        Mouse\n",
              "price            1000           25\n",
              "stock              15          100\n",
              "category  Electronics  Accessories"
            ],
            "text/html": [
              "\n",
              "  <div id=\"df-d0c97214-2f70-4d08-b227-bda7e4fb3ef6\" class=\"colab-df-container\">\n",
              "    <div>\n",
              "<style scoped>\n",
              "    .dataframe tbody tr th:only-of-type {\n",
              "        vertical-align: middle;\n",
              "    }\n",
              "\n",
              "    .dataframe tbody tr th {\n",
              "        vertical-align: top;\n",
              "    }\n",
              "\n",
              "    .dataframe thead th {\n",
              "        text-align: right;\n",
              "    }\n",
              "</style>\n",
              "<table border=\"1\" class=\"dataframe\">\n",
              "  <thead>\n",
              "    <tr style=\"text-align: right;\">\n",
              "      <th></th>\n",
              "      <th>Laptop</th>\n",
              "      <th>Mouse</th>\n",
              "    </tr>\n",
              "  </thead>\n",
              "  <tbody>\n",
              "    <tr>\n",
              "      <th>price</th>\n",
              "      <td>1000</td>\n",
              "      <td>25</td>\n",
              "    </tr>\n",
              "    <tr>\n",
              "      <th>stock</th>\n",
              "      <td>15</td>\n",
              "      <td>100</td>\n",
              "    </tr>\n",
              "    <tr>\n",
              "      <th>category</th>\n",
              "      <td>Electronics</td>\n",
              "      <td>Accessories</td>\n",
              "    </tr>\n",
              "  </tbody>\n",
              "</table>\n",
              "</div>\n",
              "    <div class=\"colab-df-buttons\">\n",
              "\n",
              "  <div class=\"colab-df-container\">\n",
              "    <button class=\"colab-df-convert\" onclick=\"convertToInteractive('df-d0c97214-2f70-4d08-b227-bda7e4fb3ef6')\"\n",
              "            title=\"Convert this dataframe to an interactive table.\"\n",
              "            style=\"display:none;\">\n",
              "\n",
              "  <svg xmlns=\"http://www.w3.org/2000/svg\" height=\"24px\" viewBox=\"0 -960 960 960\">\n",
              "    <path d=\"M120-120v-720h720v720H120Zm60-500h600v-160H180v160Zm220 220h160v-160H400v160Zm0 220h160v-160H400v160ZM180-400h160v-160H180v160Zm440 0h160v-160H620v160ZM180-180h160v-160H180v160Zm440 0h160v-160H620v160Z\"/>\n",
              "  </svg>\n",
              "    </button>\n",
              "\n",
              "  <style>\n",
              "    .colab-df-container {\n",
              "      display:flex;\n",
              "      gap: 12px;\n",
              "    }\n",
              "\n",
              "    .colab-df-convert {\n",
              "      background-color: #E8F0FE;\n",
              "      border: none;\n",
              "      border-radius: 50%;\n",
              "      cursor: pointer;\n",
              "      display: none;\n",
              "      fill: #1967D2;\n",
              "      height: 32px;\n",
              "      padding: 0 0 0 0;\n",
              "      width: 32px;\n",
              "    }\n",
              "\n",
              "    .colab-df-convert:hover {\n",
              "      background-color: #E2EBFA;\n",
              "      box-shadow: 0px 1px 2px rgba(60, 64, 67, 0.3), 0px 1px 3px 1px rgba(60, 64, 67, 0.15);\n",
              "      fill: #174EA6;\n",
              "    }\n",
              "\n",
              "    .colab-df-buttons div {\n",
              "      margin-bottom: 4px;\n",
              "    }\n",
              "\n",
              "    [theme=dark] .colab-df-convert {\n",
              "      background-color: #3B4455;\n",
              "      fill: #D2E3FC;\n",
              "    }\n",
              "\n",
              "    [theme=dark] .colab-df-convert:hover {\n",
              "      background-color: #434B5C;\n",
              "      box-shadow: 0px 1px 3px 1px rgba(0, 0, 0, 0.15);\n",
              "      filter: drop-shadow(0px 1px 2px rgba(0, 0, 0, 0.3));\n",
              "      fill: #FFFFFF;\n",
              "    }\n",
              "  </style>\n",
              "\n",
              "    <script>\n",
              "      const buttonEl =\n",
              "        document.querySelector('#df-d0c97214-2f70-4d08-b227-bda7e4fb3ef6 button.colab-df-convert');\n",
              "      buttonEl.style.display =\n",
              "        google.colab.kernel.accessAllowed ? 'block' : 'none';\n",
              "\n",
              "      async function convertToInteractive(key) {\n",
              "        const element = document.querySelector('#df-d0c97214-2f70-4d08-b227-bda7e4fb3ef6');\n",
              "        const dataTable =\n",
              "          await google.colab.kernel.invokeFunction('convertToInteractive',\n",
              "                                                    [key], {});\n",
              "        if (!dataTable) return;\n",
              "\n",
              "        const docLinkHtml = 'Like what you see? Visit the ' +\n",
              "          '<a target=\"_blank\" href=https://colab.research.google.com/notebooks/data_table.ipynb>data table notebook</a>'\n",
              "          + ' to learn more about interactive tables.';\n",
              "        element.innerHTML = '';\n",
              "        dataTable['output_type'] = 'display_data';\n",
              "        await google.colab.output.renderOutput(dataTable, element);\n",
              "        const docLink = document.createElement('div');\n",
              "        docLink.innerHTML = docLinkHtml;\n",
              "        element.appendChild(docLink);\n",
              "      }\n",
              "    </script>\n",
              "  </div>\n",
              "\n",
              "\n",
              "    <div id=\"df-c9f43556-f5c2-4a48-b90e-2f24affdef83\">\n",
              "      <button class=\"colab-df-quickchart\" onclick=\"quickchart('df-c9f43556-f5c2-4a48-b90e-2f24affdef83')\"\n",
              "                title=\"Suggest charts\"\n",
              "                style=\"display:none;\">\n",
              "\n",
              "<svg xmlns=\"http://www.w3.org/2000/svg\" height=\"24px\"viewBox=\"0 0 24 24\"\n",
              "     width=\"24px\">\n",
              "    <g>\n",
              "        <path d=\"M19 3H5c-1.1 0-2 .9-2 2v14c0 1.1.9 2 2 2h14c1.1 0 2-.9 2-2V5c0-1.1-.9-2-2-2zM9 17H7v-7h2v7zm4 0h-2V7h2v10zm4 0h-2v-4h2v4z\"/>\n",
              "    </g>\n",
              "</svg>\n",
              "      </button>\n",
              "\n",
              "<style>\n",
              "  .colab-df-quickchart {\n",
              "      --bg-color: #E8F0FE;\n",
              "      --fill-color: #1967D2;\n",
              "      --hover-bg-color: #E2EBFA;\n",
              "      --hover-fill-color: #174EA6;\n",
              "      --disabled-fill-color: #AAA;\n",
              "      --disabled-bg-color: #DDD;\n",
              "  }\n",
              "\n",
              "  [theme=dark] .colab-df-quickchart {\n",
              "      --bg-color: #3B4455;\n",
              "      --fill-color: #D2E3FC;\n",
              "      --hover-bg-color: #434B5C;\n",
              "      --hover-fill-color: #FFFFFF;\n",
              "      --disabled-bg-color: #3B4455;\n",
              "      --disabled-fill-color: #666;\n",
              "  }\n",
              "\n",
              "  .colab-df-quickchart {\n",
              "    background-color: var(--bg-color);\n",
              "    border: none;\n",
              "    border-radius: 50%;\n",
              "    cursor: pointer;\n",
              "    display: none;\n",
              "    fill: var(--fill-color);\n",
              "    height: 32px;\n",
              "    padding: 0;\n",
              "    width: 32px;\n",
              "  }\n",
              "\n",
              "  .colab-df-quickchart:hover {\n",
              "    background-color: var(--hover-bg-color);\n",
              "    box-shadow: 0 1px 2px rgba(60, 64, 67, 0.3), 0 1px 3px 1px rgba(60, 64, 67, 0.15);\n",
              "    fill: var(--button-hover-fill-color);\n",
              "  }\n",
              "\n",
              "  .colab-df-quickchart-complete:disabled,\n",
              "  .colab-df-quickchart-complete:disabled:hover {\n",
              "    background-color: var(--disabled-bg-color);\n",
              "    fill: var(--disabled-fill-color);\n",
              "    box-shadow: none;\n",
              "  }\n",
              "\n",
              "  .colab-df-spinner {\n",
              "    border: 2px solid var(--fill-color);\n",
              "    border-color: transparent;\n",
              "    border-bottom-color: var(--fill-color);\n",
              "    animation:\n",
              "      spin 1s steps(1) infinite;\n",
              "  }\n",
              "\n",
              "  @keyframes spin {\n",
              "    0% {\n",
              "      border-color: transparent;\n",
              "      border-bottom-color: var(--fill-color);\n",
              "      border-left-color: var(--fill-color);\n",
              "    }\n",
              "    20% {\n",
              "      border-color: transparent;\n",
              "      border-left-color: var(--fill-color);\n",
              "      border-top-color: var(--fill-color);\n",
              "    }\n",
              "    30% {\n",
              "      border-color: transparent;\n",
              "      border-left-color: var(--fill-color);\n",
              "      border-top-color: var(--fill-color);\n",
              "      border-right-color: var(--fill-color);\n",
              "    }\n",
              "    40% {\n",
              "      border-color: transparent;\n",
              "      border-right-color: var(--fill-color);\n",
              "      border-top-color: var(--fill-color);\n",
              "    }\n",
              "    60% {\n",
              "      border-color: transparent;\n",
              "      border-right-color: var(--fill-color);\n",
              "    }\n",
              "    80% {\n",
              "      border-color: transparent;\n",
              "      border-right-color: var(--fill-color);\n",
              "      border-bottom-color: var(--fill-color);\n",
              "    }\n",
              "    90% {\n",
              "      border-color: transparent;\n",
              "      border-bottom-color: var(--fill-color);\n",
              "    }\n",
              "  }\n",
              "</style>\n",
              "\n",
              "      <script>\n",
              "        async function quickchart(key) {\n",
              "          const quickchartButtonEl =\n",
              "            document.querySelector('#' + key + ' button');\n",
              "          quickchartButtonEl.disabled = true;  // To prevent multiple clicks.\n",
              "          quickchartButtonEl.classList.add('colab-df-spinner');\n",
              "          try {\n",
              "            const charts = await google.colab.kernel.invokeFunction(\n",
              "                'suggestCharts', [key], {});\n",
              "          } catch (error) {\n",
              "            console.error('Error during call to suggestCharts:', error);\n",
              "          }\n",
              "          quickchartButtonEl.classList.remove('colab-df-spinner');\n",
              "          quickchartButtonEl.classList.add('colab-df-quickchart-complete');\n",
              "        }\n",
              "        (() => {\n",
              "          let quickchartButtonEl =\n",
              "            document.querySelector('#df-c9f43556-f5c2-4a48-b90e-2f24affdef83 button');\n",
              "          quickchartButtonEl.style.display =\n",
              "            google.colab.kernel.accessAllowed ? 'block' : 'none';\n",
              "        })();\n",
              "      </script>\n",
              "    </div>\n",
              "\n",
              "  <div id=\"id_f798c29f-2ae2-4009-b6c2-d89e89172151\">\n",
              "    <style>\n",
              "      .colab-df-generate {\n",
              "        background-color: #E8F0FE;\n",
              "        border: none;\n",
              "        border-radius: 50%;\n",
              "        cursor: pointer;\n",
              "        display: none;\n",
              "        fill: #1967D2;\n",
              "        height: 32px;\n",
              "        padding: 0 0 0 0;\n",
              "        width: 32px;\n",
              "      }\n",
              "\n",
              "      .colab-df-generate:hover {\n",
              "        background-color: #E2EBFA;\n",
              "        box-shadow: 0px 1px 2px rgba(60, 64, 67, 0.3), 0px 1px 3px 1px rgba(60, 64, 67, 0.15);\n",
              "        fill: #174EA6;\n",
              "      }\n",
              "\n",
              "      [theme=dark] .colab-df-generate {\n",
              "        background-color: #3B4455;\n",
              "        fill: #D2E3FC;\n",
              "      }\n",
              "\n",
              "      [theme=dark] .colab-df-generate:hover {\n",
              "        background-color: #434B5C;\n",
              "        box-shadow: 0px 1px 3px 1px rgba(0, 0, 0, 0.15);\n",
              "        filter: drop-shadow(0px 1px 2px rgba(0, 0, 0, 0.3));\n",
              "        fill: #FFFFFF;\n",
              "      }\n",
              "    </style>\n",
              "    <button class=\"colab-df-generate\" onclick=\"generateWithVariable('df')\"\n",
              "            title=\"Generate code using this dataframe.\"\n",
              "            style=\"display:none;\">\n",
              "\n",
              "  <svg xmlns=\"http://www.w3.org/2000/svg\" height=\"24px\"viewBox=\"0 0 24 24\"\n",
              "       width=\"24px\">\n",
              "    <path d=\"M7,19H8.4L18.45,9,17,7.55,7,17.6ZM5,21V16.75L18.45,3.32a2,2,0,0,1,2.83,0l1.4,1.43a1.91,1.91,0,0,1,.58,1.4,1.91,1.91,0,0,1-.58,1.4L9.25,21ZM18.45,9,17,7.55Zm-12,3A5.31,5.31,0,0,0,4.9,8.1,5.31,5.31,0,0,0,1,6.5,5.31,5.31,0,0,0,4.9,4.9,5.31,5.31,0,0,0,6.5,1,5.31,5.31,0,0,0,8.1,4.9,5.31,5.31,0,0,0,12,6.5,5.46,5.46,0,0,0,6.5,12Z\"/>\n",
              "  </svg>\n",
              "    </button>\n",
              "    <script>\n",
              "      (() => {\n",
              "      const buttonEl =\n",
              "        document.querySelector('#id_f798c29f-2ae2-4009-b6c2-d89e89172151 button.colab-df-generate');\n",
              "      buttonEl.style.display =\n",
              "        google.colab.kernel.accessAllowed ? 'block' : 'none';\n",
              "\n",
              "      buttonEl.onclick = () => {\n",
              "        google.colab.notebook.generateWithVariable('df');\n",
              "      }\n",
              "      })();\n",
              "    </script>\n",
              "  </div>\n",
              "\n",
              "    </div>\n",
              "  </div>\n"
            ],
            "application/vnd.google.colaboratory.intrinsic+json": {
              "type": "dataframe",
              "variable_name": "df",
              "summary": "{\n  \"name\": \"df\",\n  \"rows\": 3,\n  \"fields\": [\n    {\n      \"column\": \"Laptop\",\n      \"properties\": {\n        \"dtype\": \"string\",\n        \"num_unique_values\": 3,\n        \"samples\": [\n          1000,\n          15,\n          \"Electronics\"\n        ],\n        \"semantic_type\": \"\",\n        \"description\": \"\"\n      }\n    },\n    {\n      \"column\": \"Mouse\",\n      \"properties\": {\n        \"dtype\": \"string\",\n        \"num_unique_values\": 3,\n        \"samples\": [\n          25,\n          100,\n          \"Accessories\"\n        ],\n        \"semantic_type\": \"\",\n        \"description\": \"\"\n      }\n    }\n  ]\n}"
            }
          },
          "metadata": {},
          "execution_count": 10
        }
      ]
    },
    {
      "cell_type": "code",
      "source": [
        "list_numbers = [1,2,3,4,44,5,666,6,7,8,99999,10,10,10]\n",
        "print(f\"The list: {list_numbers}\")\n",
        "\n",
        "list_set = set(list_numbers)\n",
        "print(f\"The set: {list_set}\")"
      ],
      "metadata": {
        "colab": {
          "base_uri": "https://localhost:8080/"
        },
        "id": "SWkS8D-YGRzZ",
        "outputId": "0df39883-8b2b-4517-db91-ca8b7b63a32c"
      },
      "execution_count": null,
      "outputs": [
        {
          "output_type": "stream",
          "name": "stdout",
          "text": [
            "The list: [1, 2, 3, 4, 44, 5, 666, 6, 7, 8, 99999, 10, 10, 10]\n",
            "The set: {1, 2, 3, 4, 5, 6, 7, 8, 10, 44, 666, 99999}\n"
          ]
        }
      ]
    },
    {
      "cell_type": "code",
      "source": [
        "# sets\n",
        "# a set as a collection of elements\n",
        "# ordered, not expect any repitition\n",
        "\n",
        "my_set = {1,2,3,4,5}\n",
        "print(my_set)"
      ],
      "metadata": {
        "colab": {
          "base_uri": "https://localhost:8080/"
        },
        "id": "VT7dE0V4F4nP",
        "outputId": "49a494fe-f0fc-4994-e5a1-cb077f74cf42"
      },
      "execution_count": null,
      "outputs": [
        {
          "output_type": "stream",
          "name": "stdout",
          "text": [
            "{1, 2, 3, 4, 5}\n"
          ]
        }
      ]
    },
    {
      "cell_type": "code",
      "source": [
        "list_numbers = [1,2,3,4,44,5,666,6,7,8,99999,10,10,10]\n",
        "print(f\"The list: {list_numbers}\")\n",
        "\n",
        "list_set = set(list_numbers)\n",
        "print(f\"The set: {list_set}\")"
      ],
      "metadata": {
        "colab": {
          "base_uri": "https://localhost:8080/"
        },
        "outputId": "0df39883-8b2b-4517-db91-ca8b7b63a32c",
        "id": "MhafEistDKqT"
      },
      "execution_count": null,
      "outputs": [
        {
          "output_type": "stream",
          "name": "stdout",
          "text": [
            "The list: [1, 2, 3, 4, 44, 5, 666, 6, 7, 8, 99999, 10, 10, 10]\n",
            "The set: {1, 2, 3, 4, 5, 6, 7, 8, 10, 44, 666, 99999}\n"
          ]
        }
      ]
    },
    {
      "cell_type": "markdown",
      "source": [
        "### Defining and Calling Functions"
      ],
      "metadata": {
        "id": "OjG5qru8HIH1"
      }
    },
    {
      "cell_type": "code",
      "source": [
        "# Challenge\n",
        "# functions are reusable blocks of code\n",
        "# we use functions for certain or specific tasks\n",
        "\n",
        "# write a function that adds two numbers\n",
        "# Function to add two numbers\n",
        "def add_numbers(a, b):\n",
        "    return a + b\n",
        "\n",
        "# Take input from the user\n",
        "num1 = float(input(\"Enter the first number: \"))\n",
        "num2 = float(input(\"Enter the second number: \"))\n",
        "\n",
        "# Call the function and print the result\n",
        "result = add_numbers(num1, num2)\n",
        "print(\"The sum is:\", result)\n"
      ],
      "metadata": {
        "id": "a9GOcDoNHLwf",
        "colab": {
          "base_uri": "https://localhost:8080/"
        },
        "outputId": "6750ae4b-7562-4e83-8c16-f0e689a4a39b"
      },
      "execution_count": null,
      "outputs": [
        {
          "output_type": "stream",
          "name": "stdout",
          "text": [
            "Enter the first number: 20\n",
            "Enter the second number: 25\n",
            "The sum is: 45.0\n"
          ]
        }
      ]
    },
    {
      "cell_type": "code",
      "source": [],
      "metadata": {
        "id": "SpMlmmWLNVh0"
      },
      "execution_count": null,
      "outputs": []
    },
    {
      "cell_type": "code",
      "source": [
        "# Challenge\n",
        "# write a function that gets the average of a list of numbers\n"
      ],
      "metadata": {
        "id": "ulUqi9ThIjDN"
      },
      "execution_count": null,
      "outputs": []
    },
    {
      "cell_type": "code",
      "source": [
        "# Challenge\n",
        "# write a function that solves the quadratic equation\n",
        "# ax^2 + bx + c\n",
        "# x = (-b +- sqrt(b^2 - 4ac )) / 2a\n",
        "# library is a set/collection of functions that perform\n",
        "# tasks relating to a certain\n",
        "# the math library has functions that solve math problems\n",
        "import math  # Import the math library for mathematical functions like sqrt()\n",
        "\n",
        "# Function to solve a quadratic equation\n",
        "def solve_quadratic(a, b, c):\n",
        "    discriminant = b**2 - 4*a*c  # Calculate the discriminant (b² - 4ac)\n",
        "\n",
        "    if discriminant > 0:\n",
        "        # Two real and different roots\n",
        "        root1 = (-b + math.sqrt(discriminant)) / (2 * a)\n",
        "        root2 = (-b - math.sqrt(discriminant)) / (2 * a)\n",
        "        return f\"Two real roots: {root1} and {root2}\"\n",
        "\n",
        "    elif discriminant == 0:\n",
        "        # One real root (repeated)\n",
        "        root = -b / (2 * a)\n",
        "        return f\"One real root: {root}\"\n",
        "\n",
        "    else:\n",
        "        # Complex (imaginary) roots\n",
        "        real_part = -b / (2 * a)\n",
        "        imaginary_part = math.sqrt(-discriminant) / (2 * a)\n",
        "        return f\"Two complex roots: {real_part}+{imaginary_part}i and {real_part}-{imaginary_part}i\"\n",
        "\n",
        "# --- Taking input from the user ---\n",
        "a = float(input(\"Enter coefficient a: \"))\n",
        "b = float(input(\"Enter coefficient b: \"))\n",
        "c = float(input(\"Enter coefficient c: \"))\n",
        "\n",
        "# --- Calling the function and displaying the result ---\n",
        "print(solve_quadratic(a, b, c))\n",
        "\n"
      ],
      "metadata": {
        "id": "q1-LjHe7IoCM",
        "colab": {
          "base_uri": "https://localhost:8080/"
        },
        "outputId": "2aadf394-5f9f-4210-cc67-0a5cec745029"
      },
      "execution_count": null,
      "outputs": [
        {
          "output_type": "stream",
          "name": "stdout",
          "text": [
            "Enter coefficient a: 1\n",
            "Enter coefficient b: 2\n",
            "Enter coefficient c: -1\n",
            "Two real roots: 0.41421356237309515 and -2.414213562373095\n"
          ]
        }
      ]
    },
    {
      "cell_type": "code",
      "source": [],
      "metadata": {
        "id": "DflyGkE_h26H"
      },
      "execution_count": null,
      "outputs": []
    },
    {
      "cell_type": "code",
      "source": [
        "# Challenge\n",
        "# write a function that solves the quadratic equation\n",
        "# ax^2 + bx + c\n",
        "# x = (-b +- sqrt(b^2 - 4ac )) / 2a\n",
        "# library is a set/collection of functions that perform\n",
        "# tasks relating to a certain\n",
        "# the math library has functions that solve math problems\n",
        "\n",
        "# importing the math\n",
        "import math\n",
        "def quadratic_equation(a,b,c):\n",
        "  while True:\n",
        "    try :\n",
        "      a = int(input(\"Enter of the value a: \"))\n",
        "      break\n",
        "    except ValueError:\n",
        "      print(\"Please enter a number\")\n",
        "  while True:\n",
        "    try :\n",
        "      b = int(input(\"Enter of the value b: \"))\n",
        "      break\n",
        "    except ValueError:\n",
        "      print(\"Please enter a number\")\n",
        "  while True:\n",
        "    try :\n",
        "      c = int(input(\"Enter of the value c: \"))\n",
        "      break\n",
        "    except ValueError:\n",
        "      print(\"Please enter a number\")\n",
        "\n",
        "  if a == 0:\n",
        "    print (\"The value of a cannot be zero\")\n",
        "    return\n",
        "\n",
        "  else:\n",
        "    square_part = b**2 - 4*a*c\n",
        "    if square_part < 0:\n",
        "      print (\"A real solution does not exist\")\n",
        "      return\n",
        "\n",
        "    else:\n",
        "      x1 = (-b + math.sqrt(square_part)) / (2*a)\n",
        "      x2 = (-b - math.sqrt(square_part)) / (2*a)\n",
        "      return x1, x2\n",
        "\n",
        "quadratic_equation()"
      ],
      "metadata": {
        "colab": {
          "base_uri": "https://localhost:8080/"
        },
        "outputId": "d4a481f1-9739-414a-ea44-752715d9c109",
        "id": "AphAnCvuh3hU"
      },
      "execution_count": null,
      "outputs": [
        {
          "output_type": "stream",
          "name": "stdout",
          "text": [
            "Enter of the value a: 5\n",
            "Enter of the value b: bupe\n",
            "Please enter a number\n",
            "Enter of the value b: 4\n",
            "Enter of the value c: bupe\n",
            "Please enter a number\n",
            "Enter of the value c: 5\n",
            "A real solution does not exist\n"
          ]
        }
      ]
    },
    {
      "cell_type": "code",
      "source": [
        "# Challenge\n",
        "# in the previous challenge, provide conditions for user input\n",
        "# that is not a number\n",
        "# also provide an evaluation when the inputs of a,b,c do not\n",
        "# give real values\n",
        "# sqrt (b**2 - 4*a*c)\n",
        "# sqrt (-20)"
      ],
      "metadata": {
        "id": "iBQO39l3UCdD"
      },
      "execution_count": null,
      "outputs": []
    },
    {
      "cell_type": "code",
      "source": [
        "# Challenge\n",
        "# write a function that gives us the maximum number in a list of numbers"
      ],
      "metadata": {
        "id": "7enWOKHSJTeG"
      },
      "execution_count": null,
      "outputs": []
    },
    {
      "cell_type": "code",
      "source": [
        "# Challenge\n",
        "# write a function that gives us the number of occurences of an item in a list"
      ],
      "metadata": {
        "id": "WPhz9EOmJa1z"
      },
      "execution_count": null,
      "outputs": []
    },
    {
      "cell_type": "code",
      "source": [
        "# Challenge\n",
        "# write a function that gives us the minimum number in a list of numbers"
      ],
      "metadata": {
        "id": "b6QiUoxbJV2u"
      },
      "execution_count": null,
      "outputs": []
    },
    {
      "cell_type": "code",
      "source": [
        "# Challenge\n",
        "# write a function that gets the average/mean of a list of numbers\n",
        "\n",
        "def get_average(numbers):\n",
        "  if len(numbers) == 0: # len stands for length\n",
        "    return 0\n",
        "  total = sum(numbers)\n",
        "  averege = total / len(numbers)\n",
        "  return average\n",
        "\n",
        "# writing a list\n",
        "my_list = [10,20,30,40,50]\n",
        "get_average(my_list)"
      ],
      "metadata": {
        "colab": {
          "base_uri": "https://localhost:8080/"
        },
        "outputId": "0606f4a7-e079-4050-bdd4-12b967c140f8",
        "id": "RVpuB-jzV4g1"
      },
      "execution_count": null,
      "outputs": [
        {
          "output_type": "execute_result",
          "data": {
            "text/plain": [
              "30.0"
            ]
          },
          "metadata": {},
          "execution_count": 1
        }
      ]
    },
    {
      "cell_type": "code",
      "source": [
        "# Challenge\n",
        "# write a function that gets the average/mean of a list of numbers\n",
        "\n",
        "def get_average(numbers):\n",
        "  if len(numbers) == 0: # len stands for length\n",
        "    return 0\n",
        "  #total = sum(numbers)\n",
        "  #average = total / len(numbers)\n",
        "  return sum(numbers)/ len(numbers)\n",
        "\n",
        "# writing a list\n",
        "my_list = [10,20,30,40,50]\n",
        "get_average(my_list)"
      ],
      "metadata": {
        "colab": {
          "base_uri": "https://localhost:8080/"
        },
        "outputId": "c069d4e7-755f-43c9-b90e-62771f90bc11",
        "id": "_YcA16n0Wq0S"
      },
      "execution_count": null,
      "outputs": [
        {
          "output_type": "execute_result",
          "data": {
            "text/plain": [
              "30.0"
            ]
          },
          "metadata": {},
          "execution_count": 4
        }
      ]
    },
    {
      "cell_type": "code",
      "source": [
        "# Challenge\n",
        "# write a function that gives us the frequency distribution of items in a list\n"
      ],
      "metadata": {
        "id": "X4nBX7WNJiH-"
      },
      "execution_count": null,
      "outputs": []
    },
    {
      "cell_type": "code",
      "source": [
        "# Challenge\n",
        "# write a function that gives us the frequency distribution of items in a list\n",
        "\n",
        "def frequency_distribution(items):\n",
        "  freq_dist = {}\n",
        "  for item in items:\n",
        "    if item in freq_dist:\n",
        "      freq_dist[item] += 1\n",
        "    else:\n",
        "      freq_dist[item] = 1\n",
        "  return freq_dist"
      ],
      "metadata": {
        "id": "Wp9KclW3iRy4"
      },
      "execution_count": null,
      "outputs": []
    },
    {
      "cell_type": "code",
      "source": [
        "# defining a list\n",
        "\n",
        "my_list = [\n",
        "    \"apple\", 'apple', 'banana', 'apple',\n",
        "    'orange', \"banana\", \"banana\", \"banana\",\n",
        "    \"orange\", \"orange\"\n",
        "]\n",
        "\n",
        "result = frequency_distribution(my_list)\n",
        "import pandas as pd\n",
        "df = pd.DataFrame(result, index = [1])\n",
        "df"
      ],
      "metadata": {
        "colab": {
          "base_uri": "https://localhost:8080/",
          "height": 89
        },
        "id": "lovGoyiDkkwe",
        "outputId": "2c46b4ad-62d7-406c-95c4-f7589475ad13"
      },
      "execution_count": null,
      "outputs": [
        {
          "output_type": "execute_result",
          "data": {
            "text/plain": [
              "   apple  banana  orange\n",
              "1      3       4       3"
            ],
            "text/html": [
              "\n",
              "  <div id=\"df-b2e93cb4-11f6-478e-9d83-ae2200d5e0a2\" class=\"colab-df-container\">\n",
              "    <div>\n",
              "<style scoped>\n",
              "    .dataframe tbody tr th:only-of-type {\n",
              "        vertical-align: middle;\n",
              "    }\n",
              "\n",
              "    .dataframe tbody tr th {\n",
              "        vertical-align: top;\n",
              "    }\n",
              "\n",
              "    .dataframe thead th {\n",
              "        text-align: right;\n",
              "    }\n",
              "</style>\n",
              "<table border=\"1\" class=\"dataframe\">\n",
              "  <thead>\n",
              "    <tr style=\"text-align: right;\">\n",
              "      <th></th>\n",
              "      <th>apple</th>\n",
              "      <th>banana</th>\n",
              "      <th>orange</th>\n",
              "    </tr>\n",
              "  </thead>\n",
              "  <tbody>\n",
              "    <tr>\n",
              "      <th>1</th>\n",
              "      <td>3</td>\n",
              "      <td>4</td>\n",
              "      <td>3</td>\n",
              "    </tr>\n",
              "  </tbody>\n",
              "</table>\n",
              "</div>\n",
              "    <div class=\"colab-df-buttons\">\n",
              "\n",
              "  <div class=\"colab-df-container\">\n",
              "    <button class=\"colab-df-convert\" onclick=\"convertToInteractive('df-b2e93cb4-11f6-478e-9d83-ae2200d5e0a2')\"\n",
              "            title=\"Convert this dataframe to an interactive table.\"\n",
              "            style=\"display:none;\">\n",
              "\n",
              "  <svg xmlns=\"http://www.w3.org/2000/svg\" height=\"24px\" viewBox=\"0 -960 960 960\">\n",
              "    <path d=\"M120-120v-720h720v720H120Zm60-500h600v-160H180v160Zm220 220h160v-160H400v160Zm0 220h160v-160H400v160ZM180-400h160v-160H180v160Zm440 0h160v-160H620v160ZM180-180h160v-160H180v160Zm440 0h160v-160H620v160Z\"/>\n",
              "  </svg>\n",
              "    </button>\n",
              "\n",
              "  <style>\n",
              "    .colab-df-container {\n",
              "      display:flex;\n",
              "      gap: 12px;\n",
              "    }\n",
              "\n",
              "    .colab-df-convert {\n",
              "      background-color: #E8F0FE;\n",
              "      border: none;\n",
              "      border-radius: 50%;\n",
              "      cursor: pointer;\n",
              "      display: none;\n",
              "      fill: #1967D2;\n",
              "      height: 32px;\n",
              "      padding: 0 0 0 0;\n",
              "      width: 32px;\n",
              "    }\n",
              "\n",
              "    .colab-df-convert:hover {\n",
              "      background-color: #E2EBFA;\n",
              "      box-shadow: 0px 1px 2px rgba(60, 64, 67, 0.3), 0px 1px 3px 1px rgba(60, 64, 67, 0.15);\n",
              "      fill: #174EA6;\n",
              "    }\n",
              "\n",
              "    .colab-df-buttons div {\n",
              "      margin-bottom: 4px;\n",
              "    }\n",
              "\n",
              "    [theme=dark] .colab-df-convert {\n",
              "      background-color: #3B4455;\n",
              "      fill: #D2E3FC;\n",
              "    }\n",
              "\n",
              "    [theme=dark] .colab-df-convert:hover {\n",
              "      background-color: #434B5C;\n",
              "      box-shadow: 0px 1px 3px 1px rgba(0, 0, 0, 0.15);\n",
              "      filter: drop-shadow(0px 1px 2px rgba(0, 0, 0, 0.3));\n",
              "      fill: #FFFFFF;\n",
              "    }\n",
              "  </style>\n",
              "\n",
              "    <script>\n",
              "      const buttonEl =\n",
              "        document.querySelector('#df-b2e93cb4-11f6-478e-9d83-ae2200d5e0a2 button.colab-df-convert');\n",
              "      buttonEl.style.display =\n",
              "        google.colab.kernel.accessAllowed ? 'block' : 'none';\n",
              "\n",
              "      async function convertToInteractive(key) {\n",
              "        const element = document.querySelector('#df-b2e93cb4-11f6-478e-9d83-ae2200d5e0a2');\n",
              "        const dataTable =\n",
              "          await google.colab.kernel.invokeFunction('convertToInteractive',\n",
              "                                                    [key], {});\n",
              "        if (!dataTable) return;\n",
              "\n",
              "        const docLinkHtml = 'Like what you see? Visit the ' +\n",
              "          '<a target=\"_blank\" href=https://colab.research.google.com/notebooks/data_table.ipynb>data table notebook</a>'\n",
              "          + ' to learn more about interactive tables.';\n",
              "        element.innerHTML = '';\n",
              "        dataTable['output_type'] = 'display_data';\n",
              "        await google.colab.output.renderOutput(dataTable, element);\n",
              "        const docLink = document.createElement('div');\n",
              "        docLink.innerHTML = docLinkHtml;\n",
              "        element.appendChild(docLink);\n",
              "      }\n",
              "    </script>\n",
              "  </div>\n",
              "\n",
              "\n",
              "  <div id=\"id_962e5097-f064-4b41-82fe-00bae77d2523\">\n",
              "    <style>\n",
              "      .colab-df-generate {\n",
              "        background-color: #E8F0FE;\n",
              "        border: none;\n",
              "        border-radius: 50%;\n",
              "        cursor: pointer;\n",
              "        display: none;\n",
              "        fill: #1967D2;\n",
              "        height: 32px;\n",
              "        padding: 0 0 0 0;\n",
              "        width: 32px;\n",
              "      }\n",
              "\n",
              "      .colab-df-generate:hover {\n",
              "        background-color: #E2EBFA;\n",
              "        box-shadow: 0px 1px 2px rgba(60, 64, 67, 0.3), 0px 1px 3px 1px rgba(60, 64, 67, 0.15);\n",
              "        fill: #174EA6;\n",
              "      }\n",
              "\n",
              "      [theme=dark] .colab-df-generate {\n",
              "        background-color: #3B4455;\n",
              "        fill: #D2E3FC;\n",
              "      }\n",
              "\n",
              "      [theme=dark] .colab-df-generate:hover {\n",
              "        background-color: #434B5C;\n",
              "        box-shadow: 0px 1px 3px 1px rgba(0, 0, 0, 0.15);\n",
              "        filter: drop-shadow(0px 1px 2px rgba(0, 0, 0, 0.3));\n",
              "        fill: #FFFFFF;\n",
              "      }\n",
              "    </style>\n",
              "    <button class=\"colab-df-generate\" onclick=\"generateWithVariable('df')\"\n",
              "            title=\"Generate code using this dataframe.\"\n",
              "            style=\"display:none;\">\n",
              "\n",
              "  <svg xmlns=\"http://www.w3.org/2000/svg\" height=\"24px\"viewBox=\"0 0 24 24\"\n",
              "       width=\"24px\">\n",
              "    <path d=\"M7,19H8.4L18.45,9,17,7.55,7,17.6ZM5,21V16.75L18.45,3.32a2,2,0,0,1,2.83,0l1.4,1.43a1.91,1.91,0,0,1,.58,1.4,1.91,1.91,0,0,1-.58,1.4L9.25,21ZM18.45,9,17,7.55Zm-12,3A5.31,5.31,0,0,0,4.9,8.1,5.31,5.31,0,0,0,1,6.5,5.31,5.31,0,0,0,4.9,4.9,5.31,5.31,0,0,0,6.5,1,5.31,5.31,0,0,0,8.1,4.9,5.31,5.31,0,0,0,12,6.5,5.46,5.46,0,0,0,6.5,12Z\"/>\n",
              "  </svg>\n",
              "    </button>\n",
              "    <script>\n",
              "      (() => {\n",
              "      const buttonEl =\n",
              "        document.querySelector('#id_962e5097-f064-4b41-82fe-00bae77d2523 button.colab-df-generate');\n",
              "      buttonEl.style.display =\n",
              "        google.colab.kernel.accessAllowed ? 'block' : 'none';\n",
              "\n",
              "      buttonEl.onclick = () => {\n",
              "        google.colab.notebook.generateWithVariable('df');\n",
              "      }\n",
              "      })();\n",
              "    </script>\n",
              "  </div>\n",
              "\n",
              "    </div>\n",
              "  </div>\n"
            ],
            "application/vnd.google.colaboratory.intrinsic+json": {
              "type": "dataframe",
              "variable_name": "df",
              "summary": "{\n  \"name\": \"df\",\n  \"rows\": 1,\n  \"fields\": [\n    {\n      \"column\": \"apple\",\n      \"properties\": {\n        \"dtype\": \"number\",\n        \"std\": null,\n        \"min\": 3,\n        \"max\": 3,\n        \"num_unique_values\": 1,\n        \"samples\": [\n          3\n        ],\n        \"semantic_type\": \"\",\n        \"description\": \"\"\n      }\n    },\n    {\n      \"column\": \"banana\",\n      \"properties\": {\n        \"dtype\": \"number\",\n        \"std\": null,\n        \"min\": 4,\n        \"max\": 4,\n        \"num_unique_values\": 1,\n        \"samples\": [\n          4\n        ],\n        \"semantic_type\": \"\",\n        \"description\": \"\"\n      }\n    },\n    {\n      \"column\": \"orange\",\n      \"properties\": {\n        \"dtype\": \"number\",\n        \"std\": null,\n        \"min\": 3,\n        \"max\": 3,\n        \"num_unique_values\": 1,\n        \"samples\": [\n          3\n        ],\n        \"semantic_type\": \"\",\n        \"description\": \"\"\n      }\n    }\n  ]\n}"
            }
          },
          "metadata": {},
          "execution_count": 19
        }
      ]
    },
    {
      "cell_type": "code",
      "source": [
        "# Example 64\n",
        "# a function that visualizes data in a plot\n",
        "# fibonacci\n",
        "\n",
        "def simple_plot (x , y, title = \"Plot of X and Y\"):\n",
        "  import matplotlib.pyplot as plt\n",
        "  plt.plot(x, y)\n",
        "  plt.title (title)\n",
        "  plt.xlabel(\"X\")\n",
        "  plt.ylabel(\"The Square of X\")\n",
        "  plt.show()\n",
        "\n",
        "x = [1, 2, 3, 4, 5, 6 , 7 ,8, 9, 10]\n",
        "y = [1, 4, 9, 16, 25, 36, 49, 64, 81, 100]\n",
        "simple_plot(x,y)\n"
      ],
      "metadata": {
        "id": "kqGCfV68mhV6",
        "colab": {
          "base_uri": "https://localhost:8080/",
          "height": 472
        },
        "outputId": "e8c43468-4f37-4da8-92a0-760be484fd5c"
      },
      "execution_count": null,
      "outputs": [
        {
          "output_type": "display_data",
          "data": {
            "text/plain": [
              "<Figure size 640x480 with 1 Axes>"
            ],
            "image/png": "[encoded data removed]"
          },
          "metadata": {}
        }
      ]
    },
    {
      "cell_type": "code",
      "source": [
        "x=[1,2,3,4,5,6,7,8,9,10]\n",
        "y=[i**2 for i in x]\n",
        "simple_plot(x,y)\n"
      ],
      "metadata": {
        "colab": {
          "base_uri": "https://localhost:8080/",
          "height": 472
        },
        "id": "NwZb-_SXlveI",
        "outputId": "28918853-06cd-4e0d-9e1f-cb5fe56d52f7"
      },
      "execution_count": null,
      "outputs": [
        {
          "output_type": "display_data",
          "data": {
            "text/plain": [
              "<Figure size 640x480 with 1 Axes>"
            ],
            "image/png": "[encoded data removed]"
          },
          "metadata": {}
        }
      ]
    },
    {
      "cell_type": "code",
      "source": [],
      "metadata": {
        "id": "Mv_kjY8popW3"
      },
      "execution_count": null,
      "outputs": []
    }
  ],
  "metadata": {
    "colab": {
      "provenance": [],
      "authorship_tag": "ABX9TyOdZftafX5LLxuoiY3IyPZp",
      "include_colab_link": true
    },
    "kernelspec": {
      "display_name": "Python 3",
      "name": "python3"
    },
    "language_info": {
      "name": "python"
    }
  },
  "nbformat": 4,
  "nbformat_minor": 0
}